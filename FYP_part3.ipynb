{
  "nbformat": 4,
  "nbformat_minor": 0,
  "metadata": {
    "colab": {
      "name": "FYP_part3.ipynb",
      "provenance": [],
      "collapsed_sections": [],
      "authorship_tag": "ABX9TyONL+9NiD+fvK3cgd1csi2f",
      "include_colab_link": true
    },
    "kernelspec": {
      "name": "python3",
      "display_name": "Python 3"
    },
    "language_info": {
      "name": "python"
    }
  },
  "cells": [
    {
      "cell_type": "markdown",
      "metadata": {
        "id": "view-in-github",
        "colab_type": "text"
      },
      "source": [
        "<a href=\"https://colab.research.google.com/github/yasanmaduranga/Final_Year_Project/blob/main/FYP_part3.ipynb\" target=\"_parent\"><img src=\"https://colab.research.google.com/assets/colab-badge.svg\" alt=\"Open In Colab\"/></a>"
      ]
    },
    {
      "cell_type": "code",
      "execution_count": 89,
      "metadata": {
        "id": "vid71ePteXE_"
      },
      "outputs": [],
      "source": [
        "import pandas as pd\n",
        "import numpy as np\n",
        "import matplotlib.pyplot as plt"
      ]
    },
    {
      "cell_type": "code",
      "source": [
        "from google.colab import drive\n",
        "drive.mount(\"/content/gdrive\")"
      ],
      "metadata": {
        "colab": {
          "base_uri": "https://localhost:8080/"
        },
        "id": "HPZjJAT3skPt",
        "outputId": "e4d6b52a-9414-42b6-e387-127359e3c02c"
      },
      "execution_count": 90,
      "outputs": [
        {
          "output_type": "stream",
          "name": "stdout",
          "text": [
            "Drive already mounted at /content/gdrive; to attempt to forcibly remount, call drive.mount(\"/content/gdrive\", force_remount=True).\n"
          ]
        }
      ]
    },
    {
      "cell_type": "code",
      "source": [
        "df = pd.read_csv('/content/gdrive/MyDrive/time series data set/topic08_weekly.csv')"
      ],
      "metadata": {
        "id": "ex3UBnNrszJx"
      },
      "execution_count": 91,
      "outputs": []
    },
    {
      "cell_type": "code",
      "source": [
        "df.info()"
      ],
      "metadata": {
        "colab": {
          "base_uri": "https://localhost:8080/"
        },
        "id": "hyW8pc_vs4so",
        "outputId": "72f756ac-f230-4779-9a17-479e71fa7075"
      },
      "execution_count": 92,
      "outputs": [
        {
          "output_type": "stream",
          "name": "stdout",
          "text": [
            "<class 'pandas.core.frame.DataFrame'>\n",
            "RangeIndex: 113 entries, 0 to 112\n",
            "Data columns (total 2 columns):\n",
            " #   Column           Non-Null Count  Dtype \n",
            "---  ------           --------------  ----- \n",
            " 0   Row Labels       113 non-null    object\n",
            " 1   Num of articles  113 non-null    int64 \n",
            "dtypes: int64(1), object(1)\n",
            "memory usage: 1.9+ KB\n"
          ]
        }
      ]
    },
    {
      "cell_type": "code",
      "source": [
        "df.head()"
      ],
      "metadata": {
        "colab": {
          "base_uri": "https://localhost:8080/",
          "height": 206
        },
        "id": "3K0uCIiTtANX",
        "outputId": "89bfe14d-1b25-44f0-c711-a781baafe3e2"
      },
      "execution_count": 93,
      "outputs": [
        {
          "output_type": "execute_result",
          "data": {
            "text/plain": [
              "              Row Labels  Num of articles\n",
              "0    1/2/2020 - 1/8/2020                8\n",
              "1   1/9/2020 - 1/15/2020               19\n",
              "2  1/16/2020 - 1/22/2020                5\n",
              "3  1/23/2020 - 1/29/2020                9\n",
              "4   1/30/2020 - 2/5/2020                5"
            ],
            "text/html": [
              "\n",
              "  <div id=\"df-88909f6d-6815-4548-8be8-6b4275618531\">\n",
              "    <div class=\"colab-df-container\">\n",
              "      <div>\n",
              "<style scoped>\n",
              "    .dataframe tbody tr th:only-of-type {\n",
              "        vertical-align: middle;\n",
              "    }\n",
              "\n",
              "    .dataframe tbody tr th {\n",
              "        vertical-align: top;\n",
              "    }\n",
              "\n",
              "    .dataframe thead th {\n",
              "        text-align: right;\n",
              "    }\n",
              "</style>\n",
              "<table border=\"1\" class=\"dataframe\">\n",
              "  <thead>\n",
              "    <tr style=\"text-align: right;\">\n",
              "      <th></th>\n",
              "      <th>Row Labels</th>\n",
              "      <th>Num of articles</th>\n",
              "    </tr>\n",
              "  </thead>\n",
              "  <tbody>\n",
              "    <tr>\n",
              "      <th>0</th>\n",
              "      <td>1/2/2020 - 1/8/2020</td>\n",
              "      <td>8</td>\n",
              "    </tr>\n",
              "    <tr>\n",
              "      <th>1</th>\n",
              "      <td>1/9/2020 - 1/15/2020</td>\n",
              "      <td>19</td>\n",
              "    </tr>\n",
              "    <tr>\n",
              "      <th>2</th>\n",
              "      <td>1/16/2020 - 1/22/2020</td>\n",
              "      <td>5</td>\n",
              "    </tr>\n",
              "    <tr>\n",
              "      <th>3</th>\n",
              "      <td>1/23/2020 - 1/29/2020</td>\n",
              "      <td>9</td>\n",
              "    </tr>\n",
              "    <tr>\n",
              "      <th>4</th>\n",
              "      <td>1/30/2020 - 2/5/2020</td>\n",
              "      <td>5</td>\n",
              "    </tr>\n",
              "  </tbody>\n",
              "</table>\n",
              "</div>\n",
              "      <button class=\"colab-df-convert\" onclick=\"convertToInteractive('df-88909f6d-6815-4548-8be8-6b4275618531')\"\n",
              "              title=\"Convert this dataframe to an interactive table.\"\n",
              "              style=\"display:none;\">\n",
              "        \n",
              "  <svg xmlns=\"http://www.w3.org/2000/svg\" height=\"24px\"viewBox=\"0 0 24 24\"\n",
              "       width=\"24px\">\n",
              "    <path d=\"M0 0h24v24H0V0z\" fill=\"none\"/>\n",
              "    <path d=\"M18.56 5.44l.94 2.06.94-2.06 2.06-.94-2.06-.94-.94-2.06-.94 2.06-2.06.94zm-11 1L8.5 8.5l.94-2.06 2.06-.94-2.06-.94L8.5 2.5l-.94 2.06-2.06.94zm10 10l.94 2.06.94-2.06 2.06-.94-2.06-.94-.94-2.06-.94 2.06-2.06.94z\"/><path d=\"M17.41 7.96l-1.37-1.37c-.4-.4-.92-.59-1.43-.59-.52 0-1.04.2-1.43.59L10.3 9.45l-7.72 7.72c-.78.78-.78 2.05 0 2.83L4 21.41c.39.39.9.59 1.41.59.51 0 1.02-.2 1.41-.59l7.78-7.78 2.81-2.81c.8-.78.8-2.07 0-2.86zM5.41 20L4 18.59l7.72-7.72 1.47 1.35L5.41 20z\"/>\n",
              "  </svg>\n",
              "      </button>\n",
              "      \n",
              "  <style>\n",
              "    .colab-df-container {\n",
              "      display:flex;\n",
              "      flex-wrap:wrap;\n",
              "      gap: 12px;\n",
              "    }\n",
              "\n",
              "    .colab-df-convert {\n",
              "      background-color: #E8F0FE;\n",
              "      border: none;\n",
              "      border-radius: 50%;\n",
              "      cursor: pointer;\n",
              "      display: none;\n",
              "      fill: #1967D2;\n",
              "      height: 32px;\n",
              "      padding: 0 0 0 0;\n",
              "      width: 32px;\n",
              "    }\n",
              "\n",
              "    .colab-df-convert:hover {\n",
              "      background-color: #E2EBFA;\n",
              "      box-shadow: 0px 1px 2px rgba(60, 64, 67, 0.3), 0px 1px 3px 1px rgba(60, 64, 67, 0.15);\n",
              "      fill: #174EA6;\n",
              "    }\n",
              "\n",
              "    [theme=dark] .colab-df-convert {\n",
              "      background-color: #3B4455;\n",
              "      fill: #D2E3FC;\n",
              "    }\n",
              "\n",
              "    [theme=dark] .colab-df-convert:hover {\n",
              "      background-color: #434B5C;\n",
              "      box-shadow: 0px 1px 3px 1px rgba(0, 0, 0, 0.15);\n",
              "      filter: drop-shadow(0px 1px 2px rgba(0, 0, 0, 0.3));\n",
              "      fill: #FFFFFF;\n",
              "    }\n",
              "  </style>\n",
              "\n",
              "      <script>\n",
              "        const buttonEl =\n",
              "          document.querySelector('#df-88909f6d-6815-4548-8be8-6b4275618531 button.colab-df-convert');\n",
              "        buttonEl.style.display =\n",
              "          google.colab.kernel.accessAllowed ? 'block' : 'none';\n",
              "\n",
              "        async function convertToInteractive(key) {\n",
              "          const element = document.querySelector('#df-88909f6d-6815-4548-8be8-6b4275618531');\n",
              "          const dataTable =\n",
              "            await google.colab.kernel.invokeFunction('convertToInteractive',\n",
              "                                                     [key], {});\n",
              "          if (!dataTable) return;\n",
              "\n",
              "          const docLinkHtml = 'Like what you see? Visit the ' +\n",
              "            '<a target=\"_blank\" href=https://colab.research.google.com/notebooks/data_table.ipynb>data table notebook</a>'\n",
              "            + ' to learn more about interactive tables.';\n",
              "          element.innerHTML = '';\n",
              "          dataTable['output_type'] = 'display_data';\n",
              "          await google.colab.output.renderOutput(dataTable, element);\n",
              "          const docLink = document.createElement('div');\n",
              "          docLink.innerHTML = docLinkHtml;\n",
              "          element.appendChild(docLink);\n",
              "        }\n",
              "      </script>\n",
              "    </div>\n",
              "  </div>\n",
              "  "
            ]
          },
          "metadata": {},
          "execution_count": 93
        }
      ]
    },
    {
      "cell_type": "code",
      "source": [
        "df.tail()"
      ],
      "metadata": {
        "colab": {
          "base_uri": "https://localhost:8080/",
          "height": 206
        },
        "id": "N8HX40z0tPTS",
        "outputId": "02138f80-aedd-48e0-9032-12137fa73df9"
      },
      "execution_count": 94,
      "outputs": [
        {
          "output_type": "execute_result",
          "data": {
            "text/plain": [
              "                Row Labels  Num of articles\n",
              "108   1/27/2022 - 2/2/2022               12\n",
              "109    2/3/2022 - 2/9/2022               20\n",
              "110  2/10/2022 - 2/16/2022               10\n",
              "111  2/17/2022 - 2/23/2022               13\n",
              "112   2/24/2022 - 3/1/2022                8"
            ],
            "text/html": [
              "\n",
              "  <div id=\"df-f953f0d8-3534-4ae7-9286-7e1da4c45928\">\n",
              "    <div class=\"colab-df-container\">\n",
              "      <div>\n",
              "<style scoped>\n",
              "    .dataframe tbody tr th:only-of-type {\n",
              "        vertical-align: middle;\n",
              "    }\n",
              "\n",
              "    .dataframe tbody tr th {\n",
              "        vertical-align: top;\n",
              "    }\n",
              "\n",
              "    .dataframe thead th {\n",
              "        text-align: right;\n",
              "    }\n",
              "</style>\n",
              "<table border=\"1\" class=\"dataframe\">\n",
              "  <thead>\n",
              "    <tr style=\"text-align: right;\">\n",
              "      <th></th>\n",
              "      <th>Row Labels</th>\n",
              "      <th>Num of articles</th>\n",
              "    </tr>\n",
              "  </thead>\n",
              "  <tbody>\n",
              "    <tr>\n",
              "      <th>108</th>\n",
              "      <td>1/27/2022 - 2/2/2022</td>\n",
              "      <td>12</td>\n",
              "    </tr>\n",
              "    <tr>\n",
              "      <th>109</th>\n",
              "      <td>2/3/2022 - 2/9/2022</td>\n",
              "      <td>20</td>\n",
              "    </tr>\n",
              "    <tr>\n",
              "      <th>110</th>\n",
              "      <td>2/10/2022 - 2/16/2022</td>\n",
              "      <td>10</td>\n",
              "    </tr>\n",
              "    <tr>\n",
              "      <th>111</th>\n",
              "      <td>2/17/2022 - 2/23/2022</td>\n",
              "      <td>13</td>\n",
              "    </tr>\n",
              "    <tr>\n",
              "      <th>112</th>\n",
              "      <td>2/24/2022 - 3/1/2022</td>\n",
              "      <td>8</td>\n",
              "    </tr>\n",
              "  </tbody>\n",
              "</table>\n",
              "</div>\n",
              "      <button class=\"colab-df-convert\" onclick=\"convertToInteractive('df-f953f0d8-3534-4ae7-9286-7e1da4c45928')\"\n",
              "              title=\"Convert this dataframe to an interactive table.\"\n",
              "              style=\"display:none;\">\n",
              "        \n",
              "  <svg xmlns=\"http://www.w3.org/2000/svg\" height=\"24px\"viewBox=\"0 0 24 24\"\n",
              "       width=\"24px\">\n",
              "    <path d=\"M0 0h24v24H0V0z\" fill=\"none\"/>\n",
              "    <path d=\"M18.56 5.44l.94 2.06.94-2.06 2.06-.94-2.06-.94-.94-2.06-.94 2.06-2.06.94zm-11 1L8.5 8.5l.94-2.06 2.06-.94-2.06-.94L8.5 2.5l-.94 2.06-2.06.94zm10 10l.94 2.06.94-2.06 2.06-.94-2.06-.94-.94-2.06-.94 2.06-2.06.94z\"/><path d=\"M17.41 7.96l-1.37-1.37c-.4-.4-.92-.59-1.43-.59-.52 0-1.04.2-1.43.59L10.3 9.45l-7.72 7.72c-.78.78-.78 2.05 0 2.83L4 21.41c.39.39.9.59 1.41.59.51 0 1.02-.2 1.41-.59l7.78-7.78 2.81-2.81c.8-.78.8-2.07 0-2.86zM5.41 20L4 18.59l7.72-7.72 1.47 1.35L5.41 20z\"/>\n",
              "  </svg>\n",
              "      </button>\n",
              "      \n",
              "  <style>\n",
              "    .colab-df-container {\n",
              "      display:flex;\n",
              "      flex-wrap:wrap;\n",
              "      gap: 12px;\n",
              "    }\n",
              "\n",
              "    .colab-df-convert {\n",
              "      background-color: #E8F0FE;\n",
              "      border: none;\n",
              "      border-radius: 50%;\n",
              "      cursor: pointer;\n",
              "      display: none;\n",
              "      fill: #1967D2;\n",
              "      height: 32px;\n",
              "      padding: 0 0 0 0;\n",
              "      width: 32px;\n",
              "    }\n",
              "\n",
              "    .colab-df-convert:hover {\n",
              "      background-color: #E2EBFA;\n",
              "      box-shadow: 0px 1px 2px rgba(60, 64, 67, 0.3), 0px 1px 3px 1px rgba(60, 64, 67, 0.15);\n",
              "      fill: #174EA6;\n",
              "    }\n",
              "\n",
              "    [theme=dark] .colab-df-convert {\n",
              "      background-color: #3B4455;\n",
              "      fill: #D2E3FC;\n",
              "    }\n",
              "\n",
              "    [theme=dark] .colab-df-convert:hover {\n",
              "      background-color: #434B5C;\n",
              "      box-shadow: 0px 1px 3px 1px rgba(0, 0, 0, 0.15);\n",
              "      filter: drop-shadow(0px 1px 2px rgba(0, 0, 0, 0.3));\n",
              "      fill: #FFFFFF;\n",
              "    }\n",
              "  </style>\n",
              "\n",
              "      <script>\n",
              "        const buttonEl =\n",
              "          document.querySelector('#df-f953f0d8-3534-4ae7-9286-7e1da4c45928 button.colab-df-convert');\n",
              "        buttonEl.style.display =\n",
              "          google.colab.kernel.accessAllowed ? 'block' : 'none';\n",
              "\n",
              "        async function convertToInteractive(key) {\n",
              "          const element = document.querySelector('#df-f953f0d8-3534-4ae7-9286-7e1da4c45928');\n",
              "          const dataTable =\n",
              "            await google.colab.kernel.invokeFunction('convertToInteractive',\n",
              "                                                     [key], {});\n",
              "          if (!dataTable) return;\n",
              "\n",
              "          const docLinkHtml = 'Like what you see? Visit the ' +\n",
              "            '<a target=\"_blank\" href=https://colab.research.google.com/notebooks/data_table.ipynb>data table notebook</a>'\n",
              "            + ' to learn more about interactive tables.';\n",
              "          element.innerHTML = '';\n",
              "          dataTable['output_type'] = 'display_data';\n",
              "          await google.colab.output.renderOutput(dataTable, element);\n",
              "          const docLink = document.createElement('div');\n",
              "          docLink.innerHTML = docLinkHtml;\n",
              "          element.appendChild(docLink);\n",
              "        }\n",
              "      </script>\n",
              "    </div>\n",
              "  </div>\n",
              "  "
            ]
          },
          "metadata": {},
          "execution_count": 94
        }
      ]
    },
    {
      "cell_type": "code",
      "source": [
        "df1=df.reset_index()['Num of articles']"
      ],
      "metadata": {
        "id": "ND8YM9SOtd_c"
      },
      "execution_count": 95,
      "outputs": []
    },
    {
      "cell_type": "code",
      "source": [
        "df1"
      ],
      "metadata": {
        "colab": {
          "base_uri": "https://localhost:8080/"
        },
        "id": "svdhlj_YtkWL",
        "outputId": "d7f2499d-14fa-47d7-beb7-774da4de0a88"
      },
      "execution_count": 97,
      "outputs": [
        {
          "output_type": "execute_result",
          "data": {
            "text/plain": [
              "0       8\n",
              "1      19\n",
              "2       5\n",
              "3       9\n",
              "4       5\n",
              "       ..\n",
              "108    12\n",
              "109    20\n",
              "110    10\n",
              "111    13\n",
              "112     8\n",
              "Name: Num of articles, Length: 113, dtype: int64"
            ]
          },
          "metadata": {},
          "execution_count": 97
        }
      ]
    },
    {
      "cell_type": "code",
      "source": [
        "import matplotlib.pyplot as plt\n",
        "plt.plot(df1)"
      ],
      "metadata": {
        "colab": {
          "base_uri": "https://localhost:8080/",
          "height": 282
        },
        "id": "YigMMzFytoHN",
        "outputId": "fe00567a-0983-48c2-ba41-eb491a3c018a"
      },
      "execution_count": 98,
      "outputs": [
        {
          "output_type": "execute_result",
          "data": {
            "text/plain": [
              "[<matplotlib.lines.Line2D at 0x7f059980df90>]"
            ]
          },
          "metadata": {},
          "execution_count": 98
        },
        {
          "output_type": "display_data",
          "data": {
            "text/plain": [
              "<Figure size 432x288 with 1 Axes>"
            ],
            "image/png": "[encoded data removed]"
          },
          "metadata": {
            "needs_background": "light"
          }
        }
      ]
    },
    {
      "cell_type": "code",
      "source": [
        "import numpy as np"
      ],
      "metadata": {
        "id": "AiIWM85Ett3n"
      },
      "execution_count": 99,
      "outputs": []
    },
    {
      "cell_type": "code",
      "source": [
        "df1"
      ],
      "metadata": {
        "colab": {
          "base_uri": "https://localhost:8080/"
        },
        "id": "8TPlnUDMtyD7",
        "outputId": "24575426-f118-45b6-fc22-d87a30413b9e"
      },
      "execution_count": 100,
      "outputs": [
        {
          "output_type": "execute_result",
          "data": {
            "text/plain": [
              "0       8\n",
              "1      19\n",
              "2       5\n",
              "3       9\n",
              "4       5\n",
              "       ..\n",
              "108    12\n",
              "109    20\n",
              "110    10\n",
              "111    13\n",
              "112     8\n",
              "Name: Num of articles, Length: 113, dtype: int64"
            ]
          },
          "metadata": {},
          "execution_count": 100
        }
      ]
    },
    {
      "cell_type": "code",
      "source": [
        "from sklearn.preprocessing import MinMaxScaler\n",
        "scaler=MinMaxScaler(feature_range=(0,1))\n",
        "df1=scaler.fit_transform(np.array(df1).reshape(-1,1))"
      ],
      "metadata": {
        "id": "i4wIJUjjt1o0"
      },
      "execution_count": 101,
      "outputs": []
    },
    {
      "cell_type": "code",
      "source": [
        "print(df1)"
      ],
      "metadata": {
        "colab": {
          "base_uri": "https://localhost:8080/"
        },
        "id": "F9u1Iv1tt4GI",
        "outputId": "6e590872-034c-4e08-a405-47a81e002138"
      },
      "execution_count": 102,
      "outputs": [
        {
          "output_type": "stream",
          "name": "stdout",
          "text": [
            "[[0.22222222]\n",
            " [0.83333333]\n",
            " [0.05555556]\n",
            " [0.27777778]\n",
            " [0.05555556]\n",
            " [0.11111111]\n",
            " [0.22222222]\n",
            " [0.38888889]\n",
            " [0.44444444]\n",
            " [0.33333333]\n",
            " [0.05555556]\n",
            " [0.        ]\n",
            " [0.        ]\n",
            " [0.22222222]\n",
            " [0.        ]\n",
            " [0.38888889]\n",
            " [0.27777778]\n",
            " [0.33333333]\n",
            " [0.27777778]\n",
            " [0.33333333]\n",
            " [0.27777778]\n",
            " [0.44444444]\n",
            " [0.77777778]\n",
            " [0.22222222]\n",
            " [0.33333333]\n",
            " [0.61111111]\n",
            " [0.22222222]\n",
            " [0.33333333]\n",
            " [0.55555556]\n",
            " [0.5       ]\n",
            " [0.77777778]\n",
            " [0.38888889]\n",
            " [0.44444444]\n",
            " [0.05555556]\n",
            " [0.72222222]\n",
            " [0.16666667]\n",
            " [0.44444444]\n",
            " [0.11111111]\n",
            " [0.88888889]\n",
            " [0.55555556]\n",
            " [0.22222222]\n",
            " [0.27777778]\n",
            " [0.44444444]\n",
            " [0.83333333]\n",
            " [0.5       ]\n",
            " [0.83333333]\n",
            " [0.22222222]\n",
            " [0.38888889]\n",
            " [0.33333333]\n",
            " [0.77777778]\n",
            " [0.72222222]\n",
            " [0.16666667]\n",
            " [0.05555556]\n",
            " [0.33333333]\n",
            " [0.55555556]\n",
            " [0.72222222]\n",
            " [0.11111111]\n",
            " [0.5       ]\n",
            " [0.55555556]\n",
            " [0.38888889]\n",
            " [0.44444444]\n",
            " [0.33333333]\n",
            " [0.44444444]\n",
            " [1.        ]\n",
            " [0.5       ]\n",
            " [0.38888889]\n",
            " [0.33333333]\n",
            " [0.16666667]\n",
            " [0.77777778]\n",
            " [0.33333333]\n",
            " [0.22222222]\n",
            " [0.33333333]\n",
            " [0.77777778]\n",
            " [0.16666667]\n",
            " [0.22222222]\n",
            " [0.61111111]\n",
            " [0.22222222]\n",
            " [0.66666667]\n",
            " [0.22222222]\n",
            " [0.27777778]\n",
            " [0.77777778]\n",
            " [0.83333333]\n",
            " [0.61111111]\n",
            " [0.72222222]\n",
            " [0.44444444]\n",
            " [0.72222222]\n",
            " [0.83333333]\n",
            " [0.5       ]\n",
            " [0.55555556]\n",
            " [0.66666667]\n",
            " [0.88888889]\n",
            " [0.38888889]\n",
            " [0.5       ]\n",
            " [0.11111111]\n",
            " [0.72222222]\n",
            " [0.33333333]\n",
            " [0.66666667]\n",
            " [0.66666667]\n",
            " [0.77777778]\n",
            " [0.33333333]\n",
            " [0.61111111]\n",
            " [0.33333333]\n",
            " [0.55555556]\n",
            " [0.44444444]\n",
            " [0.05555556]\n",
            " [0.27777778]\n",
            " [0.55555556]\n",
            " [0.61111111]\n",
            " [0.44444444]\n",
            " [0.88888889]\n",
            " [0.33333333]\n",
            " [0.5       ]\n",
            " [0.22222222]]\n"
          ]
        }
      ]
    },
    {
      "cell_type": "code",
      "source": [
        "##splitting dataset into train and test split\n",
        "training_size=int(len(df1)*0.85)\n",
        "test_size=len(df1)-training_size\n",
        "train_data,test_data=df1[0:training_size,:],df1[training_size:len(df1),:1]"
      ],
      "metadata": {
        "id": "mdQUIt46va9J"
      },
      "execution_count": 103,
      "outputs": []
    },
    {
      "cell_type": "code",
      "source": [
        "training_size,test_size"
      ],
      "metadata": {
        "colab": {
          "base_uri": "https://localhost:8080/"
        },
        "id": "dQgkhznEvfbE",
        "outputId": "63849ed1-b88f-4054-fc6a-8ae021caf667"
      },
      "execution_count": 104,
      "outputs": [
        {
          "output_type": "execute_result",
          "data": {
            "text/plain": [
              "(96, 17)"
            ]
          },
          "metadata": {},
          "execution_count": 104
        }
      ]
    },
    {
      "cell_type": "code",
      "source": [
        "train_data"
      ],
      "metadata": {
        "colab": {
          "base_uri": "https://localhost:8080/"
        },
        "id": "rGCKQak95voV",
        "outputId": "bb55d59e-a39a-4af2-afbc-9c9cfeb2158a"
      },
      "execution_count": 105,
      "outputs": [
        {
          "output_type": "execute_result",
          "data": {
            "text/plain": [
              "array([[0.22222222],\n",
              "       [0.83333333],\n",
              "       [0.05555556],\n",
              "       [0.27777778],\n",
              "       [0.05555556],\n",
              "       [0.11111111],\n",
              "       [0.22222222],\n",
              "       [0.38888889],\n",
              "       [0.44444444],\n",
              "       [0.33333333],\n",
              "       [0.05555556],\n",
              "       [0.        ],\n",
              "       [0.        ],\n",
              "       [0.22222222],\n",
              "       [0.        ],\n",
              "       [0.38888889],\n",
              "       [0.27777778],\n",
              "       [0.33333333],\n",
              "       [0.27777778],\n",
              "       [0.33333333],\n",
              "       [0.27777778],\n",
              "       [0.44444444],\n",
              "       [0.77777778],\n",
              "       [0.22222222],\n",
              "       [0.33333333],\n",
              "       [0.61111111],\n",
              "       [0.22222222],\n",
              "       [0.33333333],\n",
              "       [0.55555556],\n",
              "       [0.5       ],\n",
              "       [0.77777778],\n",
              "       [0.38888889],\n",
              "       [0.44444444],\n",
              "       [0.05555556],\n",
              "       [0.72222222],\n",
              "       [0.16666667],\n",
              "       [0.44444444],\n",
              "       [0.11111111],\n",
              "       [0.88888889],\n",
              "       [0.55555556],\n",
              "       [0.22222222],\n",
              "       [0.27777778],\n",
              "       [0.44444444],\n",
              "       [0.83333333],\n",
              "       [0.5       ],\n",
              "       [0.83333333],\n",
              "       [0.22222222],\n",
              "       [0.38888889],\n",
              "       [0.33333333],\n",
              "       [0.77777778],\n",
              "       [0.72222222],\n",
              "       [0.16666667],\n",
              "       [0.05555556],\n",
              "       [0.33333333],\n",
              "       [0.55555556],\n",
              "       [0.72222222],\n",
              "       [0.11111111],\n",
              "       [0.5       ],\n",
              "       [0.55555556],\n",
              "       [0.38888889],\n",
              "       [0.44444444],\n",
              "       [0.33333333],\n",
              "       [0.44444444],\n",
              "       [1.        ],\n",
              "       [0.5       ],\n",
              "       [0.38888889],\n",
              "       [0.33333333],\n",
              "       [0.16666667],\n",
              "       [0.77777778],\n",
              "       [0.33333333],\n",
              "       [0.22222222],\n",
              "       [0.33333333],\n",
              "       [0.77777778],\n",
              "       [0.16666667],\n",
              "       [0.22222222],\n",
              "       [0.61111111],\n",
              "       [0.22222222],\n",
              "       [0.66666667],\n",
              "       [0.22222222],\n",
              "       [0.27777778],\n",
              "       [0.77777778],\n",
              "       [0.83333333],\n",
              "       [0.61111111],\n",
              "       [0.72222222],\n",
              "       [0.44444444],\n",
              "       [0.72222222],\n",
              "       [0.83333333],\n",
              "       [0.5       ],\n",
              "       [0.55555556],\n",
              "       [0.66666667],\n",
              "       [0.88888889],\n",
              "       [0.38888889],\n",
              "       [0.5       ],\n",
              "       [0.11111111],\n",
              "       [0.72222222],\n",
              "       [0.33333333]])"
            ]
          },
          "metadata": {},
          "execution_count": 105
        }
      ]
    },
    {
      "cell_type": "code",
      "source": [
        "import numpy\n",
        "# convert an array of values into a dataset matrix\n",
        "def create_dataset(dataset, time_step=1):\n",
        "\tdataX, dataY = [], []\n",
        "\tfor i in range(len(dataset)-time_step-1):\n",
        "\t\ta = dataset[i:(i+time_step), 0]   ###i=0, 0,1,2,3-----99   100 \n",
        "\t\tdataX.append(a)\n",
        "\t\tdataY.append(dataset[i + time_step, 0])\n",
        "\treturn numpy.array(dataX), numpy.array(dataY)"
      ],
      "metadata": {
        "id": "ecV_fDpfy5RY"
      },
      "execution_count": 106,
      "outputs": []
    },
    {
      "cell_type": "code",
      "source": [
        "# reshape into X=t,t+1,t+2,t+3 and Y=t+4\n",
        "time_step = 5\n",
        "X_train, y_train = create_dataset(train_data, time_step)\n",
        "X_test, ytest = create_dataset(test_data, time_step)"
      ],
      "metadata": {
        "id": "qzEVlVYNy612"
      },
      "execution_count": 107,
      "outputs": []
    },
    {
      "cell_type": "code",
      "source": [
        "print(X_train.shape), print(y_train.shape)"
      ],
      "metadata": {
        "colab": {
          "base_uri": "https://localhost:8080/"
        },
        "id": "F04P3sQCzTWz",
        "outputId": "84e04e75-8620-4468-cf98-c570046e3c6a"
      },
      "execution_count": 108,
      "outputs": [
        {
          "output_type": "stream",
          "name": "stdout",
          "text": [
            "(90, 5)\n",
            "(90,)\n"
          ]
        },
        {
          "output_type": "execute_result",
          "data": {
            "text/plain": [
              "(None, None)"
            ]
          },
          "metadata": {},
          "execution_count": 108
        }
      ]
    },
    {
      "cell_type": "code",
      "source": [
        "print(X_test.shape), print(ytest.shape)"
      ],
      "metadata": {
        "colab": {
          "base_uri": "https://localhost:8080/"
        },
        "id": "I_f4dkPtzYSy",
        "outputId": "b7e28910-ef56-4bcf-fd70-aa1fd4389626"
      },
      "execution_count": 109,
      "outputs": [
        {
          "output_type": "stream",
          "name": "stdout",
          "text": [
            "(11, 5)\n",
            "(11,)\n"
          ]
        },
        {
          "output_type": "execute_result",
          "data": {
            "text/plain": [
              "(None, None)"
            ]
          },
          "metadata": {},
          "execution_count": 109
        }
      ]
    },
    {
      "cell_type": "code",
      "source": [
        "# reshape input to be [samples, time steps, features] which is required for LSTM\n",
        "X_train =X_train.reshape(X_train.shape[0],X_train.shape[1] , 1)\n",
        "X_test = X_test.reshape(X_test.shape[0],X_test.shape[1] , 1)"
      ],
      "metadata": {
        "id": "YZ2C7dJm02uL"
      },
      "execution_count": 110,
      "outputs": []
    },
    {
      "cell_type": "code",
      "source": [
        "### Create the Stacked LSTM model\n",
        "from tensorflow.keras.models import Sequential\n",
        "from tensorflow.keras.layers import Dense\n",
        "from tensorflow.keras.layers import LSTM"
      ],
      "metadata": {
        "id": "NJ6Ap5mI05Yx"
      },
      "execution_count": 111,
      "outputs": []
    },
    {
      "cell_type": "code",
      "source": [
        "model=Sequential()\n",
        "model.add(LSTM(50,return_sequences=True,input_shape=(5,1)))\n",
        "model.add(LSTM(50,return_sequences=True))\n",
        "model.add(LSTM(50))\n",
        "model.add(Dense(1))\n",
        "model.compile(loss='mean_squared_error',optimizer='adam')"
      ],
      "metadata": {
        "id": "UjRgH5z309rh"
      },
      "execution_count": 112,
      "outputs": []
    },
    {
      "cell_type": "code",
      "source": [
        "model.summary()"
      ],
      "metadata": {
        "colab": {
          "base_uri": "https://localhost:8080/"
        },
        "id": "SK1T27Wb1Ecs",
        "outputId": "d14038c7-5db8-4655-c1d9-750241f3f39c"
      },
      "execution_count": 113,
      "outputs": [
        {
          "output_type": "stream",
          "name": "stdout",
          "text": [
            "Model: \"sequential_2\"\n",
            "_________________________________________________________________\n",
            " Layer (type)                Output Shape              Param #   \n",
            "=================================================================\n",
            " lstm_6 (LSTM)               (None, 5, 50)             10400     \n",
            "                                                                 \n",
            " lstm_7 (LSTM)               (None, 5, 50)             20200     \n",
            "                                                                 \n",
            " lstm_8 (LSTM)               (None, 50)                20200     \n",
            "                                                                 \n",
            " dense_2 (Dense)             (None, 1)                 51        \n",
            "                                                                 \n",
            "=================================================================\n",
            "Total params: 50,851\n",
            "Trainable params: 50,851\n",
            "Non-trainable params: 0\n",
            "_________________________________________________________________\n"
          ]
        }
      ]
    },
    {
      "cell_type": "code",
      "source": [
        "model.summary()"
      ],
      "metadata": {
        "colab": {
          "base_uri": "https://localhost:8080/"
        },
        "id": "qy6f0p3M62ES",
        "outputId": "5baea418-7ed0-4a6d-933e-5c58bbdcc4ef"
      },
      "execution_count": 114,
      "outputs": [
        {
          "output_type": "stream",
          "name": "stdout",
          "text": [
            "Model: \"sequential_2\"\n",
            "_________________________________________________________________\n",
            " Layer (type)                Output Shape              Param #   \n",
            "=================================================================\n",
            " lstm_6 (LSTM)               (None, 5, 50)             10400     \n",
            "                                                                 \n",
            " lstm_7 (LSTM)               (None, 5, 50)             20200     \n",
            "                                                                 \n",
            " lstm_8 (LSTM)               (None, 50)                20200     \n",
            "                                                                 \n",
            " dense_2 (Dense)             (None, 1)                 51        \n",
            "                                                                 \n",
            "=================================================================\n",
            "Total params: 50,851\n",
            "Trainable params: 50,851\n",
            "Non-trainable params: 0\n",
            "_________________________________________________________________\n"
          ]
        }
      ]
    },
    {
      "cell_type": "code",
      "source": [
        "model.fit(X_train,y_train,validation_data=(X_test,ytest),epochs=100,batch_size=64,verbose=1)"
      ],
      "metadata": {
        "colab": {
          "base_uri": "https://localhost:8080/"
        },
        "id": "irYQ0vgl1mFu",
        "outputId": "c8166c05-ac77-43f0-89c7-456cd7d923ec"
      },
      "execution_count": 115,
      "outputs": [
        {
          "output_type": "stream",
          "name": "stdout",
          "text": [
            "Epoch 1/100\n",
            "2/2 [==============================] - 7s 1s/step - loss: 0.2475 - val_loss: 0.2256\n",
            "Epoch 2/100\n",
            "2/2 [==============================] - 0s 35ms/step - loss: 0.2202 - val_loss: 0.1977\n",
            "Epoch 3/100\n",
            "2/2 [==============================] - 0s 37ms/step - loss: 0.1939 - val_loss: 0.1688\n",
            "Epoch 4/100\n",
            "2/2 [==============================] - 0s 34ms/step - loss: 0.1666 - val_loss: 0.1381\n",
            "Epoch 5/100\n",
            "2/2 [==============================] - 0s 38ms/step - loss: 0.1367 - val_loss: 0.1063\n",
            "Epoch 6/100\n",
            "2/2 [==============================] - 0s 34ms/step - loss: 0.1057 - val_loss: 0.0761\n",
            "Epoch 7/100\n",
            "2/2 [==============================] - 0s 37ms/step - loss: 0.0757 - val_loss: 0.0542\n",
            "Epoch 8/100\n",
            "2/2 [==============================] - 0s 35ms/step - loss: 0.0549 - val_loss: 0.0531\n",
            "Epoch 9/100\n",
            "2/2 [==============================] - 0s 58ms/step - loss: 0.0565 - val_loss: 0.0746\n",
            "Epoch 10/100\n",
            "2/2 [==============================] - 0s 35ms/step - loss: 0.0724 - val_loss: 0.0804\n",
            "Epoch 11/100\n",
            "2/2 [==============================] - 0s 37ms/step - loss: 0.0749 - val_loss: 0.0671\n",
            "Epoch 12/100\n",
            "2/2 [==============================] - 0s 44ms/step - loss: 0.0644 - val_loss: 0.0546\n",
            "Epoch 13/100\n",
            "2/2 [==============================] - 0s 40ms/step - loss: 0.0555 - val_loss: 0.0496\n",
            "Epoch 14/100\n",
            "2/2 [==============================] - 0s 43ms/step - loss: 0.0525 - val_loss: 0.0500\n",
            "Epoch 15/100\n",
            "2/2 [==============================] - 0s 41ms/step - loss: 0.0558 - val_loss: 0.0519\n",
            "Epoch 16/100\n",
            "2/2 [==============================] - 0s 40ms/step - loss: 0.0573 - val_loss: 0.0528\n",
            "Epoch 17/100\n",
            "2/2 [==============================] - 0s 44ms/step - loss: 0.0579 - val_loss: 0.0522\n",
            "Epoch 18/100\n",
            "2/2 [==============================] - 0s 42ms/step - loss: 0.0571 - val_loss: 0.0509\n",
            "Epoch 19/100\n",
            "2/2 [==============================] - 0s 47ms/step - loss: 0.0557 - val_loss: 0.0496\n",
            "Epoch 20/100\n",
            "2/2 [==============================] - 0s 41ms/step - loss: 0.0540 - val_loss: 0.0491\n",
            "Epoch 21/100\n",
            "2/2 [==============================] - 0s 40ms/step - loss: 0.0532 - val_loss: 0.0497\n",
            "Epoch 22/100\n",
            "2/2 [==============================] - 0s 42ms/step - loss: 0.0531 - val_loss: 0.0510\n",
            "Epoch 23/100\n",
            "2/2 [==============================] - 0s 44ms/step - loss: 0.0545 - val_loss: 0.0520\n",
            "Epoch 24/100\n",
            "2/2 [==============================] - 0s 42ms/step - loss: 0.0547 - val_loss: 0.0517\n",
            "Epoch 25/100\n",
            "2/2 [==============================] - 0s 41ms/step - loss: 0.0546 - val_loss: 0.0511\n",
            "Epoch 26/100\n",
            "2/2 [==============================] - 0s 43ms/step - loss: 0.0540 - val_loss: 0.0508\n",
            "Epoch 27/100\n",
            "2/2 [==============================] - 0s 44ms/step - loss: 0.0536 - val_loss: 0.0504\n",
            "Epoch 28/100\n",
            "2/2 [==============================] - 0s 39ms/step - loss: 0.0533 - val_loss: 0.0499\n",
            "Epoch 29/100\n",
            "2/2 [==============================] - 0s 38ms/step - loss: 0.0530 - val_loss: 0.0496\n",
            "Epoch 30/100\n",
            "2/2 [==============================] - 0s 36ms/step - loss: 0.0530 - val_loss: 0.0496\n",
            "Epoch 31/100\n",
            "2/2 [==============================] - 0s 37ms/step - loss: 0.0532 - val_loss: 0.0497\n",
            "Epoch 32/100\n",
            "2/2 [==============================] - 0s 38ms/step - loss: 0.0535 - val_loss: 0.0499\n",
            "Epoch 33/100\n",
            "2/2 [==============================] - 0s 37ms/step - loss: 0.0537 - val_loss: 0.0499\n",
            "Epoch 34/100\n",
            "2/2 [==============================] - 0s 36ms/step - loss: 0.0535 - val_loss: 0.0498\n",
            "Epoch 35/100\n",
            "2/2 [==============================] - 0s 38ms/step - loss: 0.0532 - val_loss: 0.0500\n",
            "Epoch 36/100\n",
            "2/2 [==============================] - 0s 36ms/step - loss: 0.0530 - val_loss: 0.0506\n",
            "Epoch 37/100\n",
            "2/2 [==============================] - 0s 37ms/step - loss: 0.0531 - val_loss: 0.0512\n",
            "Epoch 38/100\n",
            "2/2 [==============================] - 0s 37ms/step - loss: 0.0533 - val_loss: 0.0515\n",
            "Epoch 39/100\n",
            "2/2 [==============================] - 0s 37ms/step - loss: 0.0534 - val_loss: 0.0516\n",
            "Epoch 40/100\n",
            "2/2 [==============================] - 0s 42ms/step - loss: 0.0533 - val_loss: 0.0513\n",
            "Epoch 41/100\n",
            "2/2 [==============================] - 0s 42ms/step - loss: 0.0531 - val_loss: 0.0510\n",
            "Epoch 42/100\n",
            "2/2 [==============================] - 0s 35ms/step - loss: 0.0530 - val_loss: 0.0509\n",
            "Epoch 43/100\n",
            "2/2 [==============================] - 0s 36ms/step - loss: 0.0528 - val_loss: 0.0510\n",
            "Epoch 44/100\n",
            "2/2 [==============================] - 0s 37ms/step - loss: 0.0528 - val_loss: 0.0511\n",
            "Epoch 45/100\n",
            "2/2 [==============================] - 0s 42ms/step - loss: 0.0528 - val_loss: 0.0513\n",
            "Epoch 46/100\n",
            "2/2 [==============================] - 0s 40ms/step - loss: 0.0528 - val_loss: 0.0515\n",
            "Epoch 47/100\n",
            "2/2 [==============================] - 0s 45ms/step - loss: 0.0528 - val_loss: 0.0516\n",
            "Epoch 48/100\n",
            "2/2 [==============================] - 0s 43ms/step - loss: 0.0528 - val_loss: 0.0518\n",
            "Epoch 49/100\n",
            "2/2 [==============================] - 0s 38ms/step - loss: 0.0528 - val_loss: 0.0518\n",
            "Epoch 50/100\n",
            "2/2 [==============================] - 0s 39ms/step - loss: 0.0528 - val_loss: 0.0519\n",
            "Epoch 51/100\n",
            "2/2 [==============================] - 0s 41ms/step - loss: 0.0527 - val_loss: 0.0518\n",
            "Epoch 52/100\n",
            "2/2 [==============================] - 0s 38ms/step - loss: 0.0527 - val_loss: 0.0518\n",
            "Epoch 53/100\n",
            "2/2 [==============================] - 0s 42ms/step - loss: 0.0528 - val_loss: 0.0519\n",
            "Epoch 54/100\n",
            "2/2 [==============================] - 0s 44ms/step - loss: 0.0527 - val_loss: 0.0523\n",
            "Epoch 55/100\n",
            "2/2 [==============================] - 0s 44ms/step - loss: 0.0526 - val_loss: 0.0530\n",
            "Epoch 56/100\n",
            "2/2 [==============================] - 0s 58ms/step - loss: 0.0529 - val_loss: 0.0535\n",
            "Epoch 57/100\n",
            "2/2 [==============================] - 0s 46ms/step - loss: 0.0530 - val_loss: 0.0533\n",
            "Epoch 58/100\n",
            "2/2 [==============================] - 0s 53ms/step - loss: 0.0528 - val_loss: 0.0530\n",
            "Epoch 59/100\n",
            "2/2 [==============================] - 0s 47ms/step - loss: 0.0527 - val_loss: 0.0527\n",
            "Epoch 60/100\n",
            "2/2 [==============================] - 0s 38ms/step - loss: 0.0526 - val_loss: 0.0526\n",
            "Epoch 61/100\n",
            "2/2 [==============================] - 0s 38ms/step - loss: 0.0526 - val_loss: 0.0525\n",
            "Epoch 62/100\n",
            "2/2 [==============================] - 0s 41ms/step - loss: 0.0529 - val_loss: 0.0525\n",
            "Epoch 63/100\n",
            "2/2 [==============================] - 0s 36ms/step - loss: 0.0528 - val_loss: 0.0528\n",
            "Epoch 64/100\n",
            "2/2 [==============================] - 0s 36ms/step - loss: 0.0527 - val_loss: 0.0535\n",
            "Epoch 65/100\n",
            "2/2 [==============================] - 0s 45ms/step - loss: 0.0529 - val_loss: 0.0539\n",
            "Epoch 66/100\n",
            "2/2 [==============================] - 0s 35ms/step - loss: 0.0527 - val_loss: 0.0536\n",
            "Epoch 67/100\n",
            "2/2 [==============================] - 0s 40ms/step - loss: 0.0528 - val_loss: 0.0532\n",
            "Epoch 68/100\n",
            "2/2 [==============================] - 0s 42ms/step - loss: 0.0529 - val_loss: 0.0532\n",
            "Epoch 69/100\n",
            "2/2 [==============================] - 0s 36ms/step - loss: 0.0526 - val_loss: 0.0537\n",
            "Epoch 70/100\n",
            "2/2 [==============================] - 0s 36ms/step - loss: 0.0526 - val_loss: 0.0541\n",
            "Epoch 71/100\n",
            "2/2 [==============================] - 0s 36ms/step - loss: 0.0527 - val_loss: 0.0543\n",
            "Epoch 72/100\n",
            "2/2 [==============================] - 0s 43ms/step - loss: 0.0527 - val_loss: 0.0540\n",
            "Epoch 73/100\n",
            "2/2 [==============================] - 0s 35ms/step - loss: 0.0526 - val_loss: 0.0537\n",
            "Epoch 74/100\n",
            "2/2 [==============================] - 0s 35ms/step - loss: 0.0526 - val_loss: 0.0535\n",
            "Epoch 75/100\n",
            "2/2 [==============================] - 0s 36ms/step - loss: 0.0526 - val_loss: 0.0537\n",
            "Epoch 76/100\n",
            "2/2 [==============================] - 0s 38ms/step - loss: 0.0526 - val_loss: 0.0540\n",
            "Epoch 77/100\n",
            "2/2 [==============================] - 0s 35ms/step - loss: 0.0527 - val_loss: 0.0547\n",
            "Epoch 78/100\n",
            "2/2 [==============================] - 0s 36ms/step - loss: 0.0527 - val_loss: 0.0548\n",
            "Epoch 79/100\n",
            "2/2 [==============================] - 0s 37ms/step - loss: 0.0526 - val_loss: 0.0545\n",
            "Epoch 80/100\n",
            "2/2 [==============================] - 0s 35ms/step - loss: 0.0526 - val_loss: 0.0541\n",
            "Epoch 81/100\n",
            "2/2 [==============================] - 0s 35ms/step - loss: 0.0528 - val_loss: 0.0540\n",
            "Epoch 82/100\n",
            "2/2 [==============================] - 0s 37ms/step - loss: 0.0526 - val_loss: 0.0542\n",
            "Epoch 83/100\n",
            "2/2 [==============================] - 0s 42ms/step - loss: 0.0525 - val_loss: 0.0549\n",
            "Epoch 84/100\n",
            "2/2 [==============================] - 0s 36ms/step - loss: 0.0526 - val_loss: 0.0555\n",
            "Epoch 85/100\n",
            "2/2 [==============================] - 0s 36ms/step - loss: 0.0528 - val_loss: 0.0556\n",
            "Epoch 86/100\n",
            "2/2 [==============================] - 0s 36ms/step - loss: 0.0529 - val_loss: 0.0548\n",
            "Epoch 87/100\n",
            "2/2 [==============================] - 0s 37ms/step - loss: 0.0525 - val_loss: 0.0539\n",
            "Epoch 88/100\n",
            "2/2 [==============================] - 0s 39ms/step - loss: 0.0527 - val_loss: 0.0537\n",
            "Epoch 89/100\n",
            "2/2 [==============================] - 0s 44ms/step - loss: 0.0531 - val_loss: 0.0536\n",
            "Epoch 90/100\n",
            "2/2 [==============================] - 0s 36ms/step - loss: 0.0532 - val_loss: 0.0535\n",
            "Epoch 91/100\n",
            "2/2 [==============================] - 0s 36ms/step - loss: 0.0530 - val_loss: 0.0536\n",
            "Epoch 92/100\n",
            "2/2 [==============================] - 0s 36ms/step - loss: 0.0526 - val_loss: 0.0544\n",
            "Epoch 93/100\n",
            "2/2 [==============================] - 0s 36ms/step - loss: 0.0526 - val_loss: 0.0555\n",
            "Epoch 94/100\n",
            "2/2 [==============================] - 0s 38ms/step - loss: 0.0530 - val_loss: 0.0559\n",
            "Epoch 95/100\n",
            "2/2 [==============================] - 0s 54ms/step - loss: 0.0532 - val_loss: 0.0555\n",
            "Epoch 96/100\n",
            "2/2 [==============================] - 0s 35ms/step - loss: 0.0529 - val_loss: 0.0548\n",
            "Epoch 97/100\n",
            "2/2 [==============================] - 0s 37ms/step - loss: 0.0526 - val_loss: 0.0539\n",
            "Epoch 98/100\n",
            "2/2 [==============================] - 0s 40ms/step - loss: 0.0526 - val_loss: 0.0535\n",
            "Epoch 99/100\n",
            "2/2 [==============================] - 0s 38ms/step - loss: 0.0527 - val_loss: 0.0535\n",
            "Epoch 100/100\n",
            "2/2 [==============================] - 0s 34ms/step - loss: 0.0528 - val_loss: 0.0534\n"
          ]
        },
        {
          "output_type": "execute_result",
          "data": {
            "text/plain": [
              "<keras.callbacks.History at 0x7f059b553d10>"
            ]
          },
          "metadata": {},
          "execution_count": 115
        }
      ]
    },
    {
      "cell_type": "code",
      "source": [
        "import tensorflow as tf"
      ],
      "metadata": {
        "id": "vyWudJ-13Z6N"
      },
      "execution_count": 116,
      "outputs": []
    },
    {
      "cell_type": "code",
      "source": [
        "### Lets Do the prediction and check performance metrics\n",
        "train_predict=model.predict(X_train)\n",
        "test_predict=model.predict(X_test)"
      ],
      "metadata": {
        "id": "kuWFpYwH3cw7"
      },
      "execution_count": 117,
      "outputs": []
    },
    {
      "cell_type": "code",
      "source": [
        "##Transformback to original form\n",
        "train_predict=scaler.inverse_transform(train_predict)\n",
        "test_predict=scaler.inverse_transform(test_predict)"
      ],
      "metadata": {
        "id": "5w3oRnRR3fSU"
      },
      "execution_count": 118,
      "outputs": []
    },
    {
      "cell_type": "code",
      "source": [
        "### Calculate RMSE performance metrics\n",
        "import math\n",
        "from sklearn.metrics import mean_squared_error\n",
        "math.sqrt(mean_squared_error(y_train,train_predict))"
      ],
      "metadata": {
        "colab": {
          "base_uri": "https://localhost:8080/"
        },
        "id": "TITX7vKC3j3U",
        "outputId": "aff678b7-ad9d-4292-8d8e-30649ca4a80f"
      },
      "execution_count": 119,
      "outputs": [
        {
          "output_type": "execute_result",
          "data": {
            "text/plain": [
              "11.063522389476269"
            ]
          },
          "metadata": {},
          "execution_count": 119
        }
      ]
    },
    {
      "cell_type": "code",
      "source": [
        "### Test Data RMSE\n",
        "math.sqrt(mean_squared_error(ytest,test_predict))"
      ],
      "metadata": {
        "colab": {
          "base_uri": "https://localhost:8080/"
        },
        "id": "24n2ne7B3nd7",
        "outputId": "14124174-9d9c-4a4e-f5ee-72111fff9e78"
      },
      "execution_count": 120,
      "outputs": [
        {
          "output_type": "execute_result",
          "data": {
            "text/plain": [
              "11.464574569695582"
            ]
          },
          "metadata": {},
          "execution_count": 120
        }
      ]
    },
    {
      "cell_type": "code",
      "source": [
        "### Plotting \n",
        "# shift train predictions for plotting\n",
        "look_back=5\n",
        "trainPredictPlot = numpy.empty_like(df1)\n",
        "trainPredictPlot[:, :] = np.nan\n",
        "trainPredictPlot[look_back:len(train_predict)+look_back, :] = train_predict\n",
        "# shift test predictions for plotting\n",
        "testPredictPlot = numpy.empty_like(df1)\n",
        "testPredictPlot[:, :] = numpy.nan\n",
        "testPredictPlot[len(train_predict)+(look_back*2)+1:len(df1)-1, :] = test_predict\n",
        "# plot baseline and predictions\n",
        "plt.plot(scaler.inverse_transform(df1))\n",
        "plt.plot(trainPredictPlot)\n",
        "plt.plot(testPredictPlot)\n",
        "plt.show()"
      ],
      "metadata": {
        "colab": {
          "base_uri": "https://localhost:8080/",
          "height": 265
        },
        "id": "nkDb8kpI4hDA",
        "outputId": "201f96b5-72b7-4741-c1c4-9720b56e6461"
      },
      "execution_count": 121,
      "outputs": [
        {
          "output_type": "display_data",
          "data": {
            "text/plain": [
              "<Figure size 432x288 with 1 Axes>"
            ],
            "image/png": "[encoded data removed]"
          },
          "metadata": {
            "needs_background": "light"
          }
        }
      ]
    },
    {
      "cell_type": "code",
      "source": [
        "len(test_data)"
      ],
      "metadata": {
        "colab": {
          "base_uri": "https://localhost:8080/"
        },
        "id": "6tIwgunx7WVi",
        "outputId": "9f484544-3a9a-4515-ffd9-ecfad406f9bb"
      },
      "execution_count": 122,
      "outputs": [
        {
          "output_type": "execute_result",
          "data": {
            "text/plain": [
              "17"
            ]
          },
          "metadata": {},
          "execution_count": 122
        }
      ]
    },
    {
      "cell_type": "code",
      "source": [
        "x_input=test_data[12:].reshape(1,-1)\n",
        "x_input.shape"
      ],
      "metadata": {
        "colab": {
          "base_uri": "https://localhost:8080/"
        },
        "id": "Kk8IGMgy75Ey",
        "outputId": "a8c22027-14ef-466b-92a6-6dd61a9af570"
      },
      "execution_count": 123,
      "outputs": [
        {
          "output_type": "execute_result",
          "data": {
            "text/plain": [
              "(1, 5)"
            ]
          },
          "metadata": {},
          "execution_count": 123
        }
      ]
    },
    {
      "cell_type": "code",
      "source": [
        "temp_input=list(x_input)\n",
        "temp_input=temp_input[0].tolist()"
      ],
      "metadata": {
        "id": "KXhhNvHx8AZc"
      },
      "execution_count": 124,
      "outputs": []
    },
    {
      "cell_type": "code",
      "source": [
        "temp_input"
      ],
      "metadata": {
        "colab": {
          "base_uri": "https://localhost:8080/"
        },
        "id": "E055DGxE8Kca",
        "outputId": "c3957af7-575b-49d4-b8b7-0424184663e6"
      },
      "execution_count": 125,
      "outputs": [
        {
          "output_type": "execute_result",
          "data": {
            "text/plain": [
              "[0.4444444444444444,\n",
              " 0.888888888888889,\n",
              " 0.33333333333333337,\n",
              " 0.5,\n",
              " 0.2222222222222222]"
            ]
          },
          "metadata": {},
          "execution_count": 125
        }
      ]
    },
    {
      "cell_type": "code",
      "source": [
        "# demonstrate prediction for next 10 days\n",
        "from numpy import array\n",
        "\n",
        "lst_output=[]\n",
        "n_steps=5\n",
        "i=0\n",
        "while(i<4):\n",
        "    \n",
        "    if(len(temp_input)>5):\n",
        "        #print(temp_input)\n",
        "        x_input=np.array(temp_input[1:])\n",
        "        print(\"{} week input {}\".format(i,x_input))\n",
        "        x_input=x_input.reshape(1,-1)\n",
        "        x_input = x_input.reshape((1, n_steps, 1))\n",
        "        #print(x_input)\n",
        "        yhat = model.predict(x_input, verbose=0)\n",
        "        print(\"{} week output {}\".format(i,yhat))\n",
        "        temp_input.extend(yhat[0].tolist())\n",
        "        temp_input=temp_input[1:]\n",
        "        #print(temp_input)\n",
        "        lst_output.extend(yhat.tolist())\n",
        "        i=i+1\n",
        "    else:\n",
        "        x_input = x_input.reshape((1, n_steps,1))\n",
        "        yhat = model.predict(x_input, verbose=0)\n",
        "        print(yhat[0])\n",
        "        temp_input.extend(yhat[0].tolist())\n",
        "        print(len(temp_input))\n",
        "        lst_output.extend(yhat.tolist())\n",
        "        i=i+1\n",
        "    \n",
        "\n",
        "print(lst_output)"
      ],
      "metadata": {
        "colab": {
          "base_uri": "https://localhost:8080/"
        },
        "id": "p1NFLCsc8u4W",
        "outputId": "2bb66b0c-95c6-447b-9656-8a6661e76a4c"
      },
      "execution_count": 126,
      "outputs": [
        {
          "output_type": "stream",
          "name": "stdout",
          "text": [
            "[0.47598073]\n",
            "6\n",
            "1 week input [0.88888889 0.33333333 0.5        0.22222222 0.47598073]\n",
            "1 week output [[0.48854077]]\n",
            "2 week input [0.33333333 0.5        0.22222222 0.47598073 0.48854077]\n",
            "2 week output [[0.38996896]]\n",
            "3 week input [0.5        0.22222222 0.47598073 0.48854077 0.38996896]\n",
            "3 week output [[0.40534988]]\n",
            "[[0.4759807288646698], [0.48854076862335205], [0.38996896147727966], [0.40534988045692444]]\n"
          ]
        }
      ]
    },
    {
      "cell_type": "code",
      "source": [
        "day_new=np.arange(1,6)\n",
        "day_pred=np.arange(6,10)"
      ],
      "metadata": {
        "id": "a_fsLlWy_Gz_"
      },
      "execution_count": 127,
      "outputs": []
    },
    {
      "cell_type": "code",
      "source": [
        "import matplotlib.pyplot as plt"
      ],
      "metadata": {
        "id": "nc07RxMA_yII"
      },
      "execution_count": 128,
      "outputs": []
    },
    {
      "cell_type": "code",
      "source": [
        "len(df1)"
      ],
      "metadata": {
        "colab": {
          "base_uri": "https://localhost:8080/"
        },
        "id": "X38D7-Dh_0iB",
        "outputId": "8fc73ad4-19c7-43b3-fbe1-68a28e40d68e"
      },
      "execution_count": 129,
      "outputs": [
        {
          "output_type": "execute_result",
          "data": {
            "text/plain": [
              "113"
            ]
          },
          "metadata": {},
          "execution_count": 129
        }
      ]
    },
    {
      "cell_type": "code",
      "source": [
        "df3 = df1.tolist()\n",
        "df3.extend(lst_output)"
      ],
      "metadata": {
        "id": "O-YJ90DV_5dh"
      },
      "execution_count": 130,
      "outputs": []
    },
    {
      "cell_type": "code",
      "source": [
        "plt.plot(day_new,scaler.inverse_transform(df1[108:]))\n",
        "plt.plot(day_pred,scaler.inverse_transform(lst_output))"
      ],
      "metadata": {
        "colab": {
          "base_uri": "https://localhost:8080/",
          "height": 282
        },
        "id": "qazQ_kO-_-Ip",
        "outputId": "9b5474ec-7f62-4b18-eb09-58a051316211"
      },
      "execution_count": 131,
      "outputs": [
        {
          "output_type": "execute_result",
          "data": {
            "text/plain": [
              "[<matplotlib.lines.Line2D at 0x7f059a930b50>]"
            ]
          },
          "metadata": {},
          "execution_count": 131
        },
        {
          "output_type": "display_data",
          "data": {
            "text/plain": [
              "<Figure size 432x288 with 1 Axes>"
            ],
            "image/png": "[encoded data removed]"
          },
          "metadata": {
            "needs_background": "light"
          }
        }
      ]
    },
    {
      "cell_type": "code",
      "source": [
        "print(day_pred,scaler.inverse_transform(lst_output));"
      ],
      "metadata": {
        "colab": {
          "base_uri": "https://localhost:8080/"
        },
        "id": "ofMHmr9OBBwC",
        "outputId": "a36d1529-ebee-4382-d4ff-6c7838353585"
      },
      "execution_count": 132,
      "outputs": [
        {
          "output_type": "stream",
          "name": "stdout",
          "text": [
            "[6 7 8 9] [[12.56765312]\n",
            " [12.79373384]\n",
            " [11.01944131]\n",
            " [11.29629785]]\n"
          ]
        }
      ]
    },
    {
      "cell_type": "code",
      "source": [
        "#3/2/2022 - 3/8/2022   -> 11.17471009\n",
        "#3/9/2022 - 3/15/2022  -> 12.03090179\n",
        "#3/16/2022 - 3/22/2022 -> 11.83499753\n",
        "#3/23/2022 - 3/29/2022 -> 11.50543559\n"
      ],
      "metadata": {
        "id": "a3MmzUu9BuRE"
      },
      "execution_count": null,
      "outputs": []
    }
  ]
}