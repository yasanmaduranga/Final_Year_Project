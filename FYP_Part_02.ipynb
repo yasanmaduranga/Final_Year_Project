{
  "nbformat": 4,
  "nbformat_minor": 0,
  "metadata": {
    "colab": {
      "name": "FYP_Part_02.ipynb",
      "provenance": [],
      "collapsed_sections": [],
      "authorship_tag": "ABX9TyOLDY24rvHSF5KFLC7EVEeS",
      "include_colab_link": true
    },
    "kernelspec": {
      "name": "python3",
      "display_name": "Python 3"
    },
    "language_info": {
      "name": "python"
    }
  },
  "cells": [
    {
      "cell_type": "markdown",
      "metadata": {
        "id": "view-in-github",
        "colab_type": "text"
      },
      "source": [
        "<a href=\"https://colab.research.google.com/github/yasanmaduranga/Final_Year_Project/blob/main/FYP_Part_02.ipynb\" target=\"_parent\"><img src=\"https://colab.research.google.com/assets/colab-badge.svg\" alt=\"Open In Colab\"/></a>"
      ]
    },
    {
      "cell_type": "code",
      "execution_count": 21,
      "metadata": {
        "colab": {
          "base_uri": "https://localhost:8080/"
        },
        "id": "CMwUEoSqaahx",
        "outputId": "9ea466ca-bb31-489d-82b9-60e593ab0b84"
      },
      "outputs": [
        {
          "output_type": "stream",
          "name": "stdout",
          "text": [
            "Requirement already satisfied: pyLDAvis in /usr/local/lib/python3.7/dist-packages (3.3.1)\n",
            "Requirement already satisfied: sklearn in /usr/local/lib/python3.7/dist-packages (from pyLDAvis) (0.0)\n",
            "Requirement already satisfied: funcy in /usr/local/lib/python3.7/dist-packages (from pyLDAvis) (1.17)\n",
            "Requirement already satisfied: jinja2 in /usr/local/lib/python3.7/dist-packages (from pyLDAvis) (2.11.3)\n",
            "Requirement already satisfied: numpy>=1.20.0 in /usr/local/lib/python3.7/dist-packages (from pyLDAvis) (1.21.6)\n",
            "Requirement already satisfied: gensim in /usr/local/lib/python3.7/dist-packages (from pyLDAvis) (3.6.0)\n",
            "Requirement already satisfied: numexpr in /usr/local/lib/python3.7/dist-packages (from pyLDAvis) (2.8.1)\n",
            "Requirement already satisfied: joblib in /usr/local/lib/python3.7/dist-packages (from pyLDAvis) (1.1.0)\n",
            "Requirement already satisfied: scikit-learn in /usr/local/lib/python3.7/dist-packages (from pyLDAvis) (1.0.2)\n",
            "Requirement already satisfied: future in /usr/local/lib/python3.7/dist-packages (from pyLDAvis) (0.16.0)\n",
            "Requirement already satisfied: scipy in /usr/local/lib/python3.7/dist-packages (from pyLDAvis) (1.4.1)\n",
            "Requirement already satisfied: pandas>=1.2.0 in /usr/local/lib/python3.7/dist-packages (from pyLDAvis) (1.3.5)\n",
            "Requirement already satisfied: setuptools in /usr/local/lib/python3.7/dist-packages (from pyLDAvis) (57.4.0)\n",
            "Requirement already satisfied: python-dateutil>=2.7.3 in /usr/local/lib/python3.7/dist-packages (from pandas>=1.2.0->pyLDAvis) (2.8.2)\n",
            "Requirement already satisfied: pytz>=2017.3 in /usr/local/lib/python3.7/dist-packages (from pandas>=1.2.0->pyLDAvis) (2022.1)\n",
            "Requirement already satisfied: six>=1.5 in /usr/local/lib/python3.7/dist-packages (from python-dateutil>=2.7.3->pandas>=1.2.0->pyLDAvis) (1.15.0)\n",
            "Requirement already satisfied: smart-open>=1.2.1 in /usr/local/lib/python3.7/dist-packages (from gensim->pyLDAvis) (6.0.0)\n",
            "Requirement already satisfied: MarkupSafe>=0.23 in /usr/local/lib/python3.7/dist-packages (from jinja2->pyLDAvis) (2.0.1)\n",
            "Requirement already satisfied: packaging in /usr/local/lib/python3.7/dist-packages (from numexpr->pyLDAvis) (21.3)\n",
            "Requirement already satisfied: pyparsing!=3.0.5,>=2.0.2 in /usr/local/lib/python3.7/dist-packages (from packaging->numexpr->pyLDAvis) (3.0.8)\n",
            "Requirement already satisfied: threadpoolctl>=2.0.0 in /usr/local/lib/python3.7/dist-packages (from scikit-learn->pyLDAvis) (3.1.0)\n"
          ]
        }
      ],
      "source": [
        "!pip install pyLDAvis"
      ]
    },
    {
      "cell_type": "markdown",
      "source": [
        "# **Dataset**"
      ],
      "metadata": {
        "id": "9HzDUQCBa8Ie"
      }
    },
    {
      "cell_type": "code",
      "source": [
        "from google.colab import drive\n",
        "drive.mount(\"/content/gdrive\")"
      ],
      "metadata": {
        "colab": {
          "base_uri": "https://localhost:8080/"
        },
        "id": "uAGdsXX4cl66",
        "outputId": "d44ec9c5-5c88-41da-d4d8-868b5117b43e"
      },
      "execution_count": 22,
      "outputs": [
        {
          "output_type": "stream",
          "name": "stdout",
          "text": [
            "Drive already mounted at /content/gdrive; to attempt to forcibly remount, call drive.mount(\"/content/gdrive\", force_remount=True).\n"
          ]
        }
      ]
    },
    {
      "cell_type": "code",
      "source": [
        "# Importing pandas\n",
        "import pandas as pd"
      ],
      "metadata": {
        "id": "IBe5exbWcwVB"
      },
      "execution_count": 23,
      "outputs": []
    },
    {
      "cell_type": "code",
      "source": [
        "news_dataset = pd.read_csv('/content/gdrive/MyDrive/mergeFinal01.csv')\n",
        "news_dataset.head()"
      ],
      "metadata": {
        "colab": {
          "base_uri": "https://localhost:8080/",
          "height": 206
        },
        "id": "S83oB8tOcyx7",
        "outputId": "dd1b8def-19f0-4194-8123-f1d2ae51a0dd"
      },
      "execution_count": 24,
      "outputs": [
        {
          "output_type": "execute_result",
          "data": {
            "text/plain": [
              "                                           Head_Line  \\\n",
              "0  Indiaâ€™s Licious raises $150 million for its ...   \n",
              "1  Bazaar raises $70 million from Tiger Global an...   \n",
              "2  Amazon accuses estranged Indian partner Future...   \n",
              "3  COVID rapid tests available on e-commerce in C...   \n",
              "4  AiFi adds new funding into its cart to expand ...   \n",
              "\n",
              "                                             Content        Date  \n",
              "0  Licious, a Bengaluru-based startup that sells ...  12/31/2020  \n",
              "1  Dragoneer Investment Group and Tiger Global ar...  12/28/2020  \n",
              "2  Amazonâ€™s two-year effort to halt a $3.4 bill...  12/25/2020  \n",
              "3  China is allowing the public to take COVID-19 ...  12/21/2020  \n",
              "4  Contactless stores are gaining traction, more ...  12/18/2020  "
            ],
            "text/html": [
              "\n",
              "  <div id=\"df-8159a799-0ef0-49d2-9ae5-a6a807471d59\">\n",
              "    <div class=\"colab-df-container\">\n",
              "      <div>\n",
              "<style scoped>\n",
              "    .dataframe tbody tr th:only-of-type {\n",
              "        vertical-align: middle;\n",
              "    }\n",
              "\n",
              "    .dataframe tbody tr th {\n",
              "        vertical-align: top;\n",
              "    }\n",
              "\n",
              "    .dataframe thead th {\n",
              "        text-align: right;\n",
              "    }\n",
              "</style>\n",
              "<table border=\"1\" class=\"dataframe\">\n",
              "  <thead>\n",
              "    <tr style=\"text-align: right;\">\n",
              "      <th></th>\n",
              "      <th>Head_Line</th>\n",
              "      <th>Content</th>\n",
              "      <th>Date</th>\n",
              "    </tr>\n",
              "  </thead>\n",
              "  <tbody>\n",
              "    <tr>\n",
              "      <th>0</th>\n",
              "      <td>Indiaâ€™s Licious raises $150 million for its ...</td>\n",
              "      <td>Licious, a Bengaluru-based startup that sells ...</td>\n",
              "      <td>12/31/2020</td>\n",
              "    </tr>\n",
              "    <tr>\n",
              "      <th>1</th>\n",
              "      <td>Bazaar raises $70 million from Tiger Global an...</td>\n",
              "      <td>Dragoneer Investment Group and Tiger Global ar...</td>\n",
              "      <td>12/28/2020</td>\n",
              "    </tr>\n",
              "    <tr>\n",
              "      <th>2</th>\n",
              "      <td>Amazon accuses estranged Indian partner Future...</td>\n",
              "      <td>Amazonâ€™s two-year effort to halt a $3.4 bill...</td>\n",
              "      <td>12/25/2020</td>\n",
              "    </tr>\n",
              "    <tr>\n",
              "      <th>3</th>\n",
              "      <td>COVID rapid tests available on e-commerce in C...</td>\n",
              "      <td>China is allowing the public to take COVID-19 ...</td>\n",
              "      <td>12/21/2020</td>\n",
              "    </tr>\n",
              "    <tr>\n",
              "      <th>4</th>\n",
              "      <td>AiFi adds new funding into its cart to expand ...</td>\n",
              "      <td>Contactless stores are gaining traction, more ...</td>\n",
              "      <td>12/18/2020</td>\n",
              "    </tr>\n",
              "  </tbody>\n",
              "</table>\n",
              "</div>\n",
              "      <button class=\"colab-df-convert\" onclick=\"convertToInteractive('df-8159a799-0ef0-49d2-9ae5-a6a807471d59')\"\n",
              "              title=\"Convert this dataframe to an interactive table.\"\n",
              "              style=\"display:none;\">\n",
              "        \n",
              "  <svg xmlns=\"http://www.w3.org/2000/svg\" height=\"24px\"viewBox=\"0 0 24 24\"\n",
              "       width=\"24px\">\n",
              "    <path d=\"M0 0h24v24H0V0z\" fill=\"none\"/>\n",
              "    <path d=\"M18.56 5.44l.94 2.06.94-2.06 2.06-.94-2.06-.94-.94-2.06-.94 2.06-2.06.94zm-11 1L8.5 8.5l.94-2.06 2.06-.94-2.06-.94L8.5 2.5l-.94 2.06-2.06.94zm10 10l.94 2.06.94-2.06 2.06-.94-2.06-.94-.94-2.06-.94 2.06-2.06.94z\"/><path d=\"M17.41 7.96l-1.37-1.37c-.4-.4-.92-.59-1.43-.59-.52 0-1.04.2-1.43.59L10.3 9.45l-7.72 7.72c-.78.78-.78 2.05 0 2.83L4 21.41c.39.39.9.59 1.41.59.51 0 1.02-.2 1.41-.59l7.78-7.78 2.81-2.81c.8-.78.8-2.07 0-2.86zM5.41 20L4 18.59l7.72-7.72 1.47 1.35L5.41 20z\"/>\n",
              "  </svg>\n",
              "      </button>\n",
              "      \n",
              "  <style>\n",
              "    .colab-df-container {\n",
              "      display:flex;\n",
              "      flex-wrap:wrap;\n",
              "      gap: 12px;\n",
              "    }\n",
              "\n",
              "    .colab-df-convert {\n",
              "      background-color: #E8F0FE;\n",
              "      border: none;\n",
              "      border-radius: 50%;\n",
              "      cursor: pointer;\n",
              "      display: none;\n",
              "      fill: #1967D2;\n",
              "      height: 32px;\n",
              "      padding: 0 0 0 0;\n",
              "      width: 32px;\n",
              "    }\n",
              "\n",
              "    .colab-df-convert:hover {\n",
              "      background-color: #E2EBFA;\n",
              "      box-shadow: 0px 1px 2px rgba(60, 64, 67, 0.3), 0px 1px 3px 1px rgba(60, 64, 67, 0.15);\n",
              "      fill: #174EA6;\n",
              "    }\n",
              "\n",
              "    [theme=dark] .colab-df-convert {\n",
              "      background-color: #3B4455;\n",
              "      fill: #D2E3FC;\n",
              "    }\n",
              "\n",
              "    [theme=dark] .colab-df-convert:hover {\n",
              "      background-color: #434B5C;\n",
              "      box-shadow: 0px 1px 3px 1px rgba(0, 0, 0, 0.15);\n",
              "      filter: drop-shadow(0px 1px 2px rgba(0, 0, 0, 0.3));\n",
              "      fill: #FFFFFF;\n",
              "    }\n",
              "  </style>\n",
              "\n",
              "      <script>\n",
              "        const buttonEl =\n",
              "          document.querySelector('#df-8159a799-0ef0-49d2-9ae5-a6a807471d59 button.colab-df-convert');\n",
              "        buttonEl.style.display =\n",
              "          google.colab.kernel.accessAllowed ? 'block' : 'none';\n",
              "\n",
              "        async function convertToInteractive(key) {\n",
              "          const element = document.querySelector('#df-8159a799-0ef0-49d2-9ae5-a6a807471d59');\n",
              "          const dataTable =\n",
              "            await google.colab.kernel.invokeFunction('convertToInteractive',\n",
              "                                                     [key], {});\n",
              "          if (!dataTable) return;\n",
              "\n",
              "          const docLinkHtml = 'Like what you see? Visit the ' +\n",
              "            '<a target=\"_blank\" href=https://colab.research.google.com/notebooks/data_table.ipynb>data table notebook</a>'\n",
              "            + ' to learn more about interactive tables.';\n",
              "          element.innerHTML = '';\n",
              "          dataTable['output_type'] = 'display_data';\n",
              "          await google.colab.output.renderOutput(dataTable, element);\n",
              "          const docLink = document.createElement('div');\n",
              "          docLink.innerHTML = docLinkHtml;\n",
              "          element.appendChild(docLink);\n",
              "        }\n",
              "      </script>\n",
              "    </div>\n",
              "  </div>\n",
              "  "
            ]
          },
          "metadata": {},
          "execution_count": 24
        }
      ]
    },
    {
      "cell_type": "code",
      "source": [
        "# counting the number of missing values in the dataset\n",
        "news_dataset.isnull().sum()"
      ],
      "metadata": {
        "colab": {
          "base_uri": "https://localhost:8080/"
        },
        "id": "iZSzjZryc2gZ",
        "outputId": "95db09f1-b892-4464-99cb-ee5dc8a5d729"
      },
      "execution_count": 25,
      "outputs": [
        {
          "output_type": "execute_result",
          "data": {
            "text/plain": [
              "Head_Line    0\n",
              "Content      0\n",
              "Date         0\n",
              "dtype: int64"
            ]
          },
          "metadata": {},
          "execution_count": 25
        }
      ]
    },
    {
      "cell_type": "code",
      "source": [
        "# merging the Head_Line\t and Content\n",
        "news_dataset['News'] = news_dataset['Head_Line']+' '+news_dataset['Content']"
      ],
      "metadata": {
        "id": "UgBTCnhVc4-Q"
      },
      "execution_count": 26,
      "outputs": []
    },
    {
      "cell_type": "code",
      "source": [
        "news_dataset.info()"
      ],
      "metadata": {
        "colab": {
          "base_uri": "https://localhost:8080/"
        },
        "id": "lDS4EFrXc6IQ",
        "outputId": "5b14cad1-b8ae-4ebe-c050-466fa7898524"
      },
      "execution_count": 27,
      "outputs": [
        {
          "output_type": "stream",
          "name": "stdout",
          "text": [
            "<class 'pandas.core.frame.DataFrame'>\n",
            "RangeIndex: 9161 entries, 0 to 9160\n",
            "Data columns (total 4 columns):\n",
            " #   Column     Non-Null Count  Dtype \n",
            "---  ------     --------------  ----- \n",
            " 0   Head_Line  9161 non-null   object\n",
            " 1   Content    9161 non-null   object\n",
            " 2   Date       9161 non-null   object\n",
            " 3   News       9161 non-null   object\n",
            "dtypes: object(4)\n",
            "memory usage: 286.4+ KB\n"
          ]
        }
      ]
    },
    {
      "cell_type": "markdown",
      "source": [
        "# **Data Preprocessing**"
      ],
      "metadata": {
        "id": "zvNbH6McbBdY"
      }
    },
    {
      "cell_type": "markdown",
      "source": [
        "Remove html tags"
      ],
      "metadata": {
        "id": "LkE_Oe0bbGFK"
      }
    },
    {
      "cell_type": "code",
      "source": [
        "import re as re\n",
        "def remove_tags(string):\n",
        "    result = re.sub('<.*?>','',string)\n",
        "    return result\n",
        "\n",
        "news_dataset['News']=news_dataset['News'].apply(lambda cw : remove_tags(cw))\n",
        "news_dataset.head()"
      ],
      "metadata": {
        "colab": {
          "base_uri": "https://localhost:8080/",
          "height": 206
        },
        "id": "dVv_tNcGc_cR",
        "outputId": "0926503a-b37e-4b4e-e6e2-44b9f9b782d5"
      },
      "execution_count": 28,
      "outputs": [
        {
          "output_type": "execute_result",
          "data": {
            "text/plain": [
              "                                           Head_Line  \\\n",
              "0  Indiaâ€™s Licious raises $150 million for its ...   \n",
              "1  Bazaar raises $70 million from Tiger Global an...   \n",
              "2  Amazon accuses estranged Indian partner Future...   \n",
              "3  COVID rapid tests available on e-commerce in C...   \n",
              "4  AiFi adds new funding into its cart to expand ...   \n",
              "\n",
              "                                             Content        Date  \\\n",
              "0  Licious, a Bengaluru-based startup that sells ...  12/31/2020   \n",
              "1  Dragoneer Investment Group and Tiger Global ar...  12/28/2020   \n",
              "2  Amazonâ€™s two-year effort to halt a $3.4 bill...  12/25/2020   \n",
              "3  China is allowing the public to take COVID-19 ...  12/21/2020   \n",
              "4  Contactless stores are gaining traction, more ...  12/18/2020   \n",
              "\n",
              "                                                News  \n",
              "0  Indiaâ€™s Licious raises $150 million for its ...  \n",
              "1  Bazaar raises $70 million from Tiger Global an...  \n",
              "2  Amazon accuses estranged Indian partner Future...  \n",
              "3  COVID rapid tests available on e-commerce in C...  \n",
              "4  AiFi adds new funding into its cart to expand ...  "
            ],
            "text/html": [
              "\n",
              "  <div id=\"df-2fa55005-8a56-470b-bbcb-df59b89a51ba\">\n",
              "    <div class=\"colab-df-container\">\n",
              "      <div>\n",
              "<style scoped>\n",
              "    .dataframe tbody tr th:only-of-type {\n",
              "        vertical-align: middle;\n",
              "    }\n",
              "\n",
              "    .dataframe tbody tr th {\n",
              "        vertical-align: top;\n",
              "    }\n",
              "\n",
              "    .dataframe thead th {\n",
              "        text-align: right;\n",
              "    }\n",
              "</style>\n",
              "<table border=\"1\" class=\"dataframe\">\n",
              "  <thead>\n",
              "    <tr style=\"text-align: right;\">\n",
              "      <th></th>\n",
              "      <th>Head_Line</th>\n",
              "      <th>Content</th>\n",
              "      <th>Date</th>\n",
              "      <th>News</th>\n",
              "    </tr>\n",
              "  </thead>\n",
              "  <tbody>\n",
              "    <tr>\n",
              "      <th>0</th>\n",
              "      <td>Indiaâ€™s Licious raises $150 million for its ...</td>\n",
              "      <td>Licious, a Bengaluru-based startup that sells ...</td>\n",
              "      <td>12/31/2020</td>\n",
              "      <td>Indiaâ€™s Licious raises $150 million for its ...</td>\n",
              "    </tr>\n",
              "    <tr>\n",
              "      <th>1</th>\n",
              "      <td>Bazaar raises $70 million from Tiger Global an...</td>\n",
              "      <td>Dragoneer Investment Group and Tiger Global ar...</td>\n",
              "      <td>12/28/2020</td>\n",
              "      <td>Bazaar raises $70 million from Tiger Global an...</td>\n",
              "    </tr>\n",
              "    <tr>\n",
              "      <th>2</th>\n",
              "      <td>Amazon accuses estranged Indian partner Future...</td>\n",
              "      <td>Amazonâ€™s two-year effort to halt a $3.4 bill...</td>\n",
              "      <td>12/25/2020</td>\n",
              "      <td>Amazon accuses estranged Indian partner Future...</td>\n",
              "    </tr>\n",
              "    <tr>\n",
              "      <th>3</th>\n",
              "      <td>COVID rapid tests available on e-commerce in C...</td>\n",
              "      <td>China is allowing the public to take COVID-19 ...</td>\n",
              "      <td>12/21/2020</td>\n",
              "      <td>COVID rapid tests available on e-commerce in C...</td>\n",
              "    </tr>\n",
              "    <tr>\n",
              "      <th>4</th>\n",
              "      <td>AiFi adds new funding into its cart to expand ...</td>\n",
              "      <td>Contactless stores are gaining traction, more ...</td>\n",
              "      <td>12/18/2020</td>\n",
              "      <td>AiFi adds new funding into its cart to expand ...</td>\n",
              "    </tr>\n",
              "  </tbody>\n",
              "</table>\n",
              "</div>\n",
              "      <button class=\"colab-df-convert\" onclick=\"convertToInteractive('df-2fa55005-8a56-470b-bbcb-df59b89a51ba')\"\n",
              "              title=\"Convert this dataframe to an interactive table.\"\n",
              "              style=\"display:none;\">\n",
              "        \n",
              "  <svg xmlns=\"http://www.w3.org/2000/svg\" height=\"24px\"viewBox=\"0 0 24 24\"\n",
              "       width=\"24px\">\n",
              "    <path d=\"M0 0h24v24H0V0z\" fill=\"none\"/>\n",
              "    <path d=\"M18.56 5.44l.94 2.06.94-2.06 2.06-.94-2.06-.94-.94-2.06-.94 2.06-2.06.94zm-11 1L8.5 8.5l.94-2.06 2.06-.94-2.06-.94L8.5 2.5l-.94 2.06-2.06.94zm10 10l.94 2.06.94-2.06 2.06-.94-2.06-.94-.94-2.06-.94 2.06-2.06.94z\"/><path d=\"M17.41 7.96l-1.37-1.37c-.4-.4-.92-.59-1.43-.59-.52 0-1.04.2-1.43.59L10.3 9.45l-7.72 7.72c-.78.78-.78 2.05 0 2.83L4 21.41c.39.39.9.59 1.41.59.51 0 1.02-.2 1.41-.59l7.78-7.78 2.81-2.81c.8-.78.8-2.07 0-2.86zM5.41 20L4 18.59l7.72-7.72 1.47 1.35L5.41 20z\"/>\n",
              "  </svg>\n",
              "      </button>\n",
              "      \n",
              "  <style>\n",
              "    .colab-df-container {\n",
              "      display:flex;\n",
              "      flex-wrap:wrap;\n",
              "      gap: 12px;\n",
              "    }\n",
              "\n",
              "    .colab-df-convert {\n",
              "      background-color: #E8F0FE;\n",
              "      border: none;\n",
              "      border-radius: 50%;\n",
              "      cursor: pointer;\n",
              "      display: none;\n",
              "      fill: #1967D2;\n",
              "      height: 32px;\n",
              "      padding: 0 0 0 0;\n",
              "      width: 32px;\n",
              "    }\n",
              "\n",
              "    .colab-df-convert:hover {\n",
              "      background-color: #E2EBFA;\n",
              "      box-shadow: 0px 1px 2px rgba(60, 64, 67, 0.3), 0px 1px 3px 1px rgba(60, 64, 67, 0.15);\n",
              "      fill: #174EA6;\n",
              "    }\n",
              "\n",
              "    [theme=dark] .colab-df-convert {\n",
              "      background-color: #3B4455;\n",
              "      fill: #D2E3FC;\n",
              "    }\n",
              "\n",
              "    [theme=dark] .colab-df-convert:hover {\n",
              "      background-color: #434B5C;\n",
              "      box-shadow: 0px 1px 3px 1px rgba(0, 0, 0, 0.15);\n",
              "      filter: drop-shadow(0px 1px 2px rgba(0, 0, 0, 0.3));\n",
              "      fill: #FFFFFF;\n",
              "    }\n",
              "  </style>\n",
              "\n",
              "      <script>\n",
              "        const buttonEl =\n",
              "          document.querySelector('#df-2fa55005-8a56-470b-bbcb-df59b89a51ba button.colab-df-convert');\n",
              "        buttonEl.style.display =\n",
              "          google.colab.kernel.accessAllowed ? 'block' : 'none';\n",
              "\n",
              "        async function convertToInteractive(key) {\n",
              "          const element = document.querySelector('#df-2fa55005-8a56-470b-bbcb-df59b89a51ba');\n",
              "          const dataTable =\n",
              "            await google.colab.kernel.invokeFunction('convertToInteractive',\n",
              "                                                     [key], {});\n",
              "          if (!dataTable) return;\n",
              "\n",
              "          const docLinkHtml = 'Like what you see? Visit the ' +\n",
              "            '<a target=\"_blank\" href=https://colab.research.google.com/notebooks/data_table.ipynb>data table notebook</a>'\n",
              "            + ' to learn more about interactive tables.';\n",
              "          element.innerHTML = '';\n",
              "          dataTable['output_type'] = 'display_data';\n",
              "          await google.colab.output.renderOutput(dataTable, element);\n",
              "          const docLink = document.createElement('div');\n",
              "          docLink.innerHTML = docLinkHtml;\n",
              "          element.appendChild(docLink);\n",
              "        }\n",
              "      </script>\n",
              "    </div>\n",
              "  </div>\n",
              "  "
            ]
          },
          "metadata": {},
          "execution_count": 28
        }
      ]
    },
    {
      "cell_type": "markdown",
      "source": [
        "Remove Urls"
      ],
      "metadata": {
        "id": "BpwB8Ki3bLGQ"
      }
    },
    {
      "cell_type": "code",
      "source": [
        "news_dataset['News'] = news_dataset['News'].str.replace(r's*https?://S+(s+|$)', ' ').str.strip()\n",
        "news_dataset.head()"
      ],
      "metadata": {
        "colab": {
          "base_uri": "https://localhost:8080/",
          "height": 241
        },
        "id": "e35JZHSodERD",
        "outputId": "632a1db3-8efc-4c28-f011-16ef69b097ec"
      },
      "execution_count": 29,
      "outputs": [
        {
          "output_type": "stream",
          "name": "stderr",
          "text": [
            "/usr/local/lib/python3.7/dist-packages/ipykernel_launcher.py:1: FutureWarning: The default value of regex will change from True to False in a future version.\n",
            "  \"\"\"Entry point for launching an IPython kernel.\n"
          ]
        },
        {
          "output_type": "execute_result",
          "data": {
            "text/plain": [
              "                                           Head_Line  \\\n",
              "0  Indiaâ€™s Licious raises $150 million for its ...   \n",
              "1  Bazaar raises $70 million from Tiger Global an...   \n",
              "2  Amazon accuses estranged Indian partner Future...   \n",
              "3  COVID rapid tests available on e-commerce in C...   \n",
              "4  AiFi adds new funding into its cart to expand ...   \n",
              "\n",
              "                                             Content        Date  \\\n",
              "0  Licious, a Bengaluru-based startup that sells ...  12/31/2020   \n",
              "1  Dragoneer Investment Group and Tiger Global ar...  12/28/2020   \n",
              "2  Amazonâ€™s two-year effort to halt a $3.4 bill...  12/25/2020   \n",
              "3  China is allowing the public to take COVID-19 ...  12/21/2020   \n",
              "4  Contactless stores are gaining traction, more ...  12/18/2020   \n",
              "\n",
              "                                                News  \n",
              "0  Indiaâ€™s Licious raises $150 million for its ...  \n",
              "1  Bazaar raises $70 million from Tiger Global an...  \n",
              "2  Amazon accuses estranged Indian partner Future...  \n",
              "3  COVID rapid tests available on e-commerce in C...  \n",
              "4  AiFi adds new funding into its cart to expand ...  "
            ],
            "text/html": [
              "\n",
              "  <div id=\"df-614b1168-35ab-4906-a875-230dbc9cc98b\">\n",
              "    <div class=\"colab-df-container\">\n",
              "      <div>\n",
              "<style scoped>\n",
              "    .dataframe tbody tr th:only-of-type {\n",
              "        vertical-align: middle;\n",
              "    }\n",
              "\n",
              "    .dataframe tbody tr th {\n",
              "        vertical-align: top;\n",
              "    }\n",
              "\n",
              "    .dataframe thead th {\n",
              "        text-align: right;\n",
              "    }\n",
              "</style>\n",
              "<table border=\"1\" class=\"dataframe\">\n",
              "  <thead>\n",
              "    <tr style=\"text-align: right;\">\n",
              "      <th></th>\n",
              "      <th>Head_Line</th>\n",
              "      <th>Content</th>\n",
              "      <th>Date</th>\n",
              "      <th>News</th>\n",
              "    </tr>\n",
              "  </thead>\n",
              "  <tbody>\n",
              "    <tr>\n",
              "      <th>0</th>\n",
              "      <td>Indiaâ€™s Licious raises $150 million for its ...</td>\n",
              "      <td>Licious, a Bengaluru-based startup that sells ...</td>\n",
              "      <td>12/31/2020</td>\n",
              "      <td>Indiaâ€™s Licious raises $150 million for its ...</td>\n",
              "    </tr>\n",
              "    <tr>\n",
              "      <th>1</th>\n",
              "      <td>Bazaar raises $70 million from Tiger Global an...</td>\n",
              "      <td>Dragoneer Investment Group and Tiger Global ar...</td>\n",
              "      <td>12/28/2020</td>\n",
              "      <td>Bazaar raises $70 million from Tiger Global an...</td>\n",
              "    </tr>\n",
              "    <tr>\n",
              "      <th>2</th>\n",
              "      <td>Amazon accuses estranged Indian partner Future...</td>\n",
              "      <td>Amazonâ€™s two-year effort to halt a $3.4 bill...</td>\n",
              "      <td>12/25/2020</td>\n",
              "      <td>Amazon accuses estranged Indian partner Future...</td>\n",
              "    </tr>\n",
              "    <tr>\n",
              "      <th>3</th>\n",
              "      <td>COVID rapid tests available on e-commerce in C...</td>\n",
              "      <td>China is allowing the public to take COVID-19 ...</td>\n",
              "      <td>12/21/2020</td>\n",
              "      <td>COVID rapid tests available on e-commerce in C...</td>\n",
              "    </tr>\n",
              "    <tr>\n",
              "      <th>4</th>\n",
              "      <td>AiFi adds new funding into its cart to expand ...</td>\n",
              "      <td>Contactless stores are gaining traction, more ...</td>\n",
              "      <td>12/18/2020</td>\n",
              "      <td>AiFi adds new funding into its cart to expand ...</td>\n",
              "    </tr>\n",
              "  </tbody>\n",
              "</table>\n",
              "</div>\n",
              "      <button class=\"colab-df-convert\" onclick=\"convertToInteractive('df-614b1168-35ab-4906-a875-230dbc9cc98b')\"\n",
              "              title=\"Convert this dataframe to an interactive table.\"\n",
              "              style=\"display:none;\">\n",
              "        \n",
              "  <svg xmlns=\"http://www.w3.org/2000/svg\" height=\"24px\"viewBox=\"0 0 24 24\"\n",
              "       width=\"24px\">\n",
              "    <path d=\"M0 0h24v24H0V0z\" fill=\"none\"/>\n",
              "    <path d=\"M18.56 5.44l.94 2.06.94-2.06 2.06-.94-2.06-.94-.94-2.06-.94 2.06-2.06.94zm-11 1L8.5 8.5l.94-2.06 2.06-.94-2.06-.94L8.5 2.5l-.94 2.06-2.06.94zm10 10l.94 2.06.94-2.06 2.06-.94-2.06-.94-.94-2.06-.94 2.06-2.06.94z\"/><path d=\"M17.41 7.96l-1.37-1.37c-.4-.4-.92-.59-1.43-.59-.52 0-1.04.2-1.43.59L10.3 9.45l-7.72 7.72c-.78.78-.78 2.05 0 2.83L4 21.41c.39.39.9.59 1.41.59.51 0 1.02-.2 1.41-.59l7.78-7.78 2.81-2.81c.8-.78.8-2.07 0-2.86zM5.41 20L4 18.59l7.72-7.72 1.47 1.35L5.41 20z\"/>\n",
              "  </svg>\n",
              "      </button>\n",
              "      \n",
              "  <style>\n",
              "    .colab-df-container {\n",
              "      display:flex;\n",
              "      flex-wrap:wrap;\n",
              "      gap: 12px;\n",
              "    }\n",
              "\n",
              "    .colab-df-convert {\n",
              "      background-color: #E8F0FE;\n",
              "      border: none;\n",
              "      border-radius: 50%;\n",
              "      cursor: pointer;\n",
              "      display: none;\n",
              "      fill: #1967D2;\n",
              "      height: 32px;\n",
              "      padding: 0 0 0 0;\n",
              "      width: 32px;\n",
              "    }\n",
              "\n",
              "    .colab-df-convert:hover {\n",
              "      background-color: #E2EBFA;\n",
              "      box-shadow: 0px 1px 2px rgba(60, 64, 67, 0.3), 0px 1px 3px 1px rgba(60, 64, 67, 0.15);\n",
              "      fill: #174EA6;\n",
              "    }\n",
              "\n",
              "    [theme=dark] .colab-df-convert {\n",
              "      background-color: #3B4455;\n",
              "      fill: #D2E3FC;\n",
              "    }\n",
              "\n",
              "    [theme=dark] .colab-df-convert:hover {\n",
              "      background-color: #434B5C;\n",
              "      box-shadow: 0px 1px 3px 1px rgba(0, 0, 0, 0.15);\n",
              "      filter: drop-shadow(0px 1px 2px rgba(0, 0, 0, 0.3));\n",
              "      fill: #FFFFFF;\n",
              "    }\n",
              "  </style>\n",
              "\n",
              "      <script>\n",
              "        const buttonEl =\n",
              "          document.querySelector('#df-614b1168-35ab-4906-a875-230dbc9cc98b button.colab-df-convert');\n",
              "        buttonEl.style.display =\n",
              "          google.colab.kernel.accessAllowed ? 'block' : 'none';\n",
              "\n",
              "        async function convertToInteractive(key) {\n",
              "          const element = document.querySelector('#df-614b1168-35ab-4906-a875-230dbc9cc98b');\n",
              "          const dataTable =\n",
              "            await google.colab.kernel.invokeFunction('convertToInteractive',\n",
              "                                                     [key], {});\n",
              "          if (!dataTable) return;\n",
              "\n",
              "          const docLinkHtml = 'Like what you see? Visit the ' +\n",
              "            '<a target=\"_blank\" href=https://colab.research.google.com/notebooks/data_table.ipynb>data table notebook</a>'\n",
              "            + ' to learn more about interactive tables.';\n",
              "          element.innerHTML = '';\n",
              "          dataTable['output_type'] = 'display_data';\n",
              "          await google.colab.output.renderOutput(dataTable, element);\n",
              "          const docLink = document.createElement('div');\n",
              "          docLink.innerHTML = docLinkHtml;\n",
              "          element.appendChild(docLink);\n",
              "        }\n",
              "      </script>\n",
              "    </div>\n",
              "  </div>\n",
              "  "
            ]
          },
          "metadata": {},
          "execution_count": 29
        }
      ]
    },
    {
      "cell_type": "markdown",
      "source": [
        "Remove Emails"
      ],
      "metadata": {
        "id": "SjegfXo8bOxv"
      }
    },
    {
      "cell_type": "code",
      "source": [
        "def remove_emails(string):\n",
        "    result = re.sub('\\S*@\\S*\\s?', '',string)\n",
        "    return result\n",
        "\n",
        "\n",
        "news_dataset['News']=news_dataset['News'].apply(lambda cw : remove_emails(cw))\n",
        "news_dataset.head()"
      ],
      "metadata": {
        "colab": {
          "base_uri": "https://localhost:8080/",
          "height": 206
        },
        "id": "Liga2w7pdHcw",
        "outputId": "b18bf7ce-83c7-49c3-e78e-e06a1a92f65c"
      },
      "execution_count": 30,
      "outputs": [
        {
          "output_type": "execute_result",
          "data": {
            "text/plain": [
              "                                           Head_Line  \\\n",
              "0  Indiaâ€™s Licious raises $150 million for its ...   \n",
              "1  Bazaar raises $70 million from Tiger Global an...   \n",
              "2  Amazon accuses estranged Indian partner Future...   \n",
              "3  COVID rapid tests available on e-commerce in C...   \n",
              "4  AiFi adds new funding into its cart to expand ...   \n",
              "\n",
              "                                             Content        Date  \\\n",
              "0  Licious, a Bengaluru-based startup that sells ...  12/31/2020   \n",
              "1  Dragoneer Investment Group and Tiger Global ar...  12/28/2020   \n",
              "2  Amazonâ€™s two-year effort to halt a $3.4 bill...  12/25/2020   \n",
              "3  China is allowing the public to take COVID-19 ...  12/21/2020   \n",
              "4  Contactless stores are gaining traction, more ...  12/18/2020   \n",
              "\n",
              "                                                News  \n",
              "0  Indiaâ€™s Licious raises $150 million for its ...  \n",
              "1  Bazaar raises $70 million from Tiger Global an...  \n",
              "2  Amazon accuses estranged Indian partner Future...  \n",
              "3  COVID rapid tests available on e-commerce in C...  \n",
              "4  AiFi adds new funding into its cart to expand ...  "
            ],
            "text/html": [
              "\n",
              "  <div id=\"df-29ffb103-8c9c-4a80-9013-f9a5a95b322c\">\n",
              "    <div class=\"colab-df-container\">\n",
              "      <div>\n",
              "<style scoped>\n",
              "    .dataframe tbody tr th:only-of-type {\n",
              "        vertical-align: middle;\n",
              "    }\n",
              "\n",
              "    .dataframe tbody tr th {\n",
              "        vertical-align: top;\n",
              "    }\n",
              "\n",
              "    .dataframe thead th {\n",
              "        text-align: right;\n",
              "    }\n",
              "</style>\n",
              "<table border=\"1\" class=\"dataframe\">\n",
              "  <thead>\n",
              "    <tr style=\"text-align: right;\">\n",
              "      <th></th>\n",
              "      <th>Head_Line</th>\n",
              "      <th>Content</th>\n",
              "      <th>Date</th>\n",
              "      <th>News</th>\n",
              "    </tr>\n",
              "  </thead>\n",
              "  <tbody>\n",
              "    <tr>\n",
              "      <th>0</th>\n",
              "      <td>Indiaâ€™s Licious raises $150 million for its ...</td>\n",
              "      <td>Licious, a Bengaluru-based startup that sells ...</td>\n",
              "      <td>12/31/2020</td>\n",
              "      <td>Indiaâ€™s Licious raises $150 million for its ...</td>\n",
              "    </tr>\n",
              "    <tr>\n",
              "      <th>1</th>\n",
              "      <td>Bazaar raises $70 million from Tiger Global an...</td>\n",
              "      <td>Dragoneer Investment Group and Tiger Global ar...</td>\n",
              "      <td>12/28/2020</td>\n",
              "      <td>Bazaar raises $70 million from Tiger Global an...</td>\n",
              "    </tr>\n",
              "    <tr>\n",
              "      <th>2</th>\n",
              "      <td>Amazon accuses estranged Indian partner Future...</td>\n",
              "      <td>Amazonâ€™s two-year effort to halt a $3.4 bill...</td>\n",
              "      <td>12/25/2020</td>\n",
              "      <td>Amazon accuses estranged Indian partner Future...</td>\n",
              "    </tr>\n",
              "    <tr>\n",
              "      <th>3</th>\n",
              "      <td>COVID rapid tests available on e-commerce in C...</td>\n",
              "      <td>China is allowing the public to take COVID-19 ...</td>\n",
              "      <td>12/21/2020</td>\n",
              "      <td>COVID rapid tests available on e-commerce in C...</td>\n",
              "    </tr>\n",
              "    <tr>\n",
              "      <th>4</th>\n",
              "      <td>AiFi adds new funding into its cart to expand ...</td>\n",
              "      <td>Contactless stores are gaining traction, more ...</td>\n",
              "      <td>12/18/2020</td>\n",
              "      <td>AiFi adds new funding into its cart to expand ...</td>\n",
              "    </tr>\n",
              "  </tbody>\n",
              "</table>\n",
              "</div>\n",
              "      <button class=\"colab-df-convert\" onclick=\"convertToInteractive('df-29ffb103-8c9c-4a80-9013-f9a5a95b322c')\"\n",
              "              title=\"Convert this dataframe to an interactive table.\"\n",
              "              style=\"display:none;\">\n",
              "        \n",
              "  <svg xmlns=\"http://www.w3.org/2000/svg\" height=\"24px\"viewBox=\"0 0 24 24\"\n",
              "       width=\"24px\">\n",
              "    <path d=\"M0 0h24v24H0V0z\" fill=\"none\"/>\n",
              "    <path d=\"M18.56 5.44l.94 2.06.94-2.06 2.06-.94-2.06-.94-.94-2.06-.94 2.06-2.06.94zm-11 1L8.5 8.5l.94-2.06 2.06-.94-2.06-.94L8.5 2.5l-.94 2.06-2.06.94zm10 10l.94 2.06.94-2.06 2.06-.94-2.06-.94-.94-2.06-.94 2.06-2.06.94z\"/><path d=\"M17.41 7.96l-1.37-1.37c-.4-.4-.92-.59-1.43-.59-.52 0-1.04.2-1.43.59L10.3 9.45l-7.72 7.72c-.78.78-.78 2.05 0 2.83L4 21.41c.39.39.9.59 1.41.59.51 0 1.02-.2 1.41-.59l7.78-7.78 2.81-2.81c.8-.78.8-2.07 0-2.86zM5.41 20L4 18.59l7.72-7.72 1.47 1.35L5.41 20z\"/>\n",
              "  </svg>\n",
              "      </button>\n",
              "      \n",
              "  <style>\n",
              "    .colab-df-container {\n",
              "      display:flex;\n",
              "      flex-wrap:wrap;\n",
              "      gap: 12px;\n",
              "    }\n",
              "\n",
              "    .colab-df-convert {\n",
              "      background-color: #E8F0FE;\n",
              "      border: none;\n",
              "      border-radius: 50%;\n",
              "      cursor: pointer;\n",
              "      display: none;\n",
              "      fill: #1967D2;\n",
              "      height: 32px;\n",
              "      padding: 0 0 0 0;\n",
              "      width: 32px;\n",
              "    }\n",
              "\n",
              "    .colab-df-convert:hover {\n",
              "      background-color: #E2EBFA;\n",
              "      box-shadow: 0px 1px 2px rgba(60, 64, 67, 0.3), 0px 1px 3px 1px rgba(60, 64, 67, 0.15);\n",
              "      fill: #174EA6;\n",
              "    }\n",
              "\n",
              "    [theme=dark] .colab-df-convert {\n",
              "      background-color: #3B4455;\n",
              "      fill: #D2E3FC;\n",
              "    }\n",
              "\n",
              "    [theme=dark] .colab-df-convert:hover {\n",
              "      background-color: #434B5C;\n",
              "      box-shadow: 0px 1px 3px 1px rgba(0, 0, 0, 0.15);\n",
              "      filter: drop-shadow(0px 1px 2px rgba(0, 0, 0, 0.3));\n",
              "      fill: #FFFFFF;\n",
              "    }\n",
              "  </style>\n",
              "\n",
              "      <script>\n",
              "        const buttonEl =\n",
              "          document.querySelector('#df-29ffb103-8c9c-4a80-9013-f9a5a95b322c button.colab-df-convert');\n",
              "        buttonEl.style.display =\n",
              "          google.colab.kernel.accessAllowed ? 'block' : 'none';\n",
              "\n",
              "        async function convertToInteractive(key) {\n",
              "          const element = document.querySelector('#df-29ffb103-8c9c-4a80-9013-f9a5a95b322c');\n",
              "          const dataTable =\n",
              "            await google.colab.kernel.invokeFunction('convertToInteractive',\n",
              "                                                     [key], {});\n",
              "          if (!dataTable) return;\n",
              "\n",
              "          const docLinkHtml = 'Like what you see? Visit the ' +\n",
              "            '<a target=\"_blank\" href=https://colab.research.google.com/notebooks/data_table.ipynb>data table notebook</a>'\n",
              "            + ' to learn more about interactive tables.';\n",
              "          element.innerHTML = '';\n",
              "          dataTable['output_type'] = 'display_data';\n",
              "          await google.colab.output.renderOutput(dataTable, element);\n",
              "          const docLink = document.createElement('div');\n",
              "          docLink.innerHTML = docLinkHtml;\n",
              "          element.appendChild(docLink);\n",
              "        }\n",
              "      </script>\n",
              "    </div>\n",
              "  </div>\n",
              "  "
            ]
          },
          "metadata": {},
          "execution_count": 30
        }
      ]
    },
    {
      "cell_type": "markdown",
      "source": [
        "Converting to lowercase case"
      ],
      "metadata": {
        "id": "sQ9cYNMAbTQo"
      }
    },
    {
      "cell_type": "code",
      "source": [
        "news_dataset['News'] = news_dataset['News'].apply(lambda x: str(x).lower())\n",
        "news_dataset.head()"
      ],
      "metadata": {
        "colab": {
          "base_uri": "https://localhost:8080/",
          "height": 206
        },
        "id": "QSJYXIvJdKW5",
        "outputId": "5e0b2b25-bead-4546-94c5-f4d5d1d1b4a6"
      },
      "execution_count": 31,
      "outputs": [
        {
          "output_type": "execute_result",
          "data": {
            "text/plain": [
              "                                           Head_Line  \\\n",
              "0  Indiaâ€™s Licious raises $150 million for its ...   \n",
              "1  Bazaar raises $70 million from Tiger Global an...   \n",
              "2  Amazon accuses estranged Indian partner Future...   \n",
              "3  COVID rapid tests available on e-commerce in C...   \n",
              "4  AiFi adds new funding into its cart to expand ...   \n",
              "\n",
              "                                             Content        Date  \\\n",
              "0  Licious, a Bengaluru-based startup that sells ...  12/31/2020   \n",
              "1  Dragoneer Investment Group and Tiger Global ar...  12/28/2020   \n",
              "2  Amazonâ€™s two-year effort to halt a $3.4 bill...  12/25/2020   \n",
              "3  China is allowing the public to take COVID-19 ...  12/21/2020   \n",
              "4  Contactless stores are gaining traction, more ...  12/18/2020   \n",
              "\n",
              "                                                News  \n",
              "0  indiaâ€™s licious raises $150 million for its ...  \n",
              "1  bazaar raises $70 million from tiger global an...  \n",
              "2  amazon accuses estranged indian partner future...  \n",
              "3  covid rapid tests available on e-commerce in c...  \n",
              "4  aifi adds new funding into its cart to expand ...  "
            ],
            "text/html": [
              "\n",
              "  <div id=\"df-cf2f1ba2-6fdb-4396-b70e-d3f315efae22\">\n",
              "    <div class=\"colab-df-container\">\n",
              "      <div>\n",
              "<style scoped>\n",
              "    .dataframe tbody tr th:only-of-type {\n",
              "        vertical-align: middle;\n",
              "    }\n",
              "\n",
              "    .dataframe tbody tr th {\n",
              "        vertical-align: top;\n",
              "    }\n",
              "\n",
              "    .dataframe thead th {\n",
              "        text-align: right;\n",
              "    }\n",
              "</style>\n",
              "<table border=\"1\" class=\"dataframe\">\n",
              "  <thead>\n",
              "    <tr style=\"text-align: right;\">\n",
              "      <th></th>\n",
              "      <th>Head_Line</th>\n",
              "      <th>Content</th>\n",
              "      <th>Date</th>\n",
              "      <th>News</th>\n",
              "    </tr>\n",
              "  </thead>\n",
              "  <tbody>\n",
              "    <tr>\n",
              "      <th>0</th>\n",
              "      <td>Indiaâ€™s Licious raises $150 million for its ...</td>\n",
              "      <td>Licious, a Bengaluru-based startup that sells ...</td>\n",
              "      <td>12/31/2020</td>\n",
              "      <td>indiaâ€™s licious raises $150 million for its ...</td>\n",
              "    </tr>\n",
              "    <tr>\n",
              "      <th>1</th>\n",
              "      <td>Bazaar raises $70 million from Tiger Global an...</td>\n",
              "      <td>Dragoneer Investment Group and Tiger Global ar...</td>\n",
              "      <td>12/28/2020</td>\n",
              "      <td>bazaar raises $70 million from tiger global an...</td>\n",
              "    </tr>\n",
              "    <tr>\n",
              "      <th>2</th>\n",
              "      <td>Amazon accuses estranged Indian partner Future...</td>\n",
              "      <td>Amazonâ€™s two-year effort to halt a $3.4 bill...</td>\n",
              "      <td>12/25/2020</td>\n",
              "      <td>amazon accuses estranged indian partner future...</td>\n",
              "    </tr>\n",
              "    <tr>\n",
              "      <th>3</th>\n",
              "      <td>COVID rapid tests available on e-commerce in C...</td>\n",
              "      <td>China is allowing the public to take COVID-19 ...</td>\n",
              "      <td>12/21/2020</td>\n",
              "      <td>covid rapid tests available on e-commerce in c...</td>\n",
              "    </tr>\n",
              "    <tr>\n",
              "      <th>4</th>\n",
              "      <td>AiFi adds new funding into its cart to expand ...</td>\n",
              "      <td>Contactless stores are gaining traction, more ...</td>\n",
              "      <td>12/18/2020</td>\n",
              "      <td>aifi adds new funding into its cart to expand ...</td>\n",
              "    </tr>\n",
              "  </tbody>\n",
              "</table>\n",
              "</div>\n",
              "      <button class=\"colab-df-convert\" onclick=\"convertToInteractive('df-cf2f1ba2-6fdb-4396-b70e-d3f315efae22')\"\n",
              "              title=\"Convert this dataframe to an interactive table.\"\n",
              "              style=\"display:none;\">\n",
              "        \n",
              "  <svg xmlns=\"http://www.w3.org/2000/svg\" height=\"24px\"viewBox=\"0 0 24 24\"\n",
              "       width=\"24px\">\n",
              "    <path d=\"M0 0h24v24H0V0z\" fill=\"none\"/>\n",
              "    <path d=\"M18.56 5.44l.94 2.06.94-2.06 2.06-.94-2.06-.94-.94-2.06-.94 2.06-2.06.94zm-11 1L8.5 8.5l.94-2.06 2.06-.94-2.06-.94L8.5 2.5l-.94 2.06-2.06.94zm10 10l.94 2.06.94-2.06 2.06-.94-2.06-.94-.94-2.06-.94 2.06-2.06.94z\"/><path d=\"M17.41 7.96l-1.37-1.37c-.4-.4-.92-.59-1.43-.59-.52 0-1.04.2-1.43.59L10.3 9.45l-7.72 7.72c-.78.78-.78 2.05 0 2.83L4 21.41c.39.39.9.59 1.41.59.51 0 1.02-.2 1.41-.59l7.78-7.78 2.81-2.81c.8-.78.8-2.07 0-2.86zM5.41 20L4 18.59l7.72-7.72 1.47 1.35L5.41 20z\"/>\n",
              "  </svg>\n",
              "      </button>\n",
              "      \n",
              "  <style>\n",
              "    .colab-df-container {\n",
              "      display:flex;\n",
              "      flex-wrap:wrap;\n",
              "      gap: 12px;\n",
              "    }\n",
              "\n",
              "    .colab-df-convert {\n",
              "      background-color: #E8F0FE;\n",
              "      border: none;\n",
              "      border-radius: 50%;\n",
              "      cursor: pointer;\n",
              "      display: none;\n",
              "      fill: #1967D2;\n",
              "      height: 32px;\n",
              "      padding: 0 0 0 0;\n",
              "      width: 32px;\n",
              "    }\n",
              "\n",
              "    .colab-df-convert:hover {\n",
              "      background-color: #E2EBFA;\n",
              "      box-shadow: 0px 1px 2px rgba(60, 64, 67, 0.3), 0px 1px 3px 1px rgba(60, 64, 67, 0.15);\n",
              "      fill: #174EA6;\n",
              "    }\n",
              "\n",
              "    [theme=dark] .colab-df-convert {\n",
              "      background-color: #3B4455;\n",
              "      fill: #D2E3FC;\n",
              "    }\n",
              "\n",
              "    [theme=dark] .colab-df-convert:hover {\n",
              "      background-color: #434B5C;\n",
              "      box-shadow: 0px 1px 3px 1px rgba(0, 0, 0, 0.15);\n",
              "      filter: drop-shadow(0px 1px 2px rgba(0, 0, 0, 0.3));\n",
              "      fill: #FFFFFF;\n",
              "    }\n",
              "  </style>\n",
              "\n",
              "      <script>\n",
              "        const buttonEl =\n",
              "          document.querySelector('#df-cf2f1ba2-6fdb-4396-b70e-d3f315efae22 button.colab-df-convert');\n",
              "        buttonEl.style.display =\n",
              "          google.colab.kernel.accessAllowed ? 'block' : 'none';\n",
              "\n",
              "        async function convertToInteractive(key) {\n",
              "          const element = document.querySelector('#df-cf2f1ba2-6fdb-4396-b70e-d3f315efae22');\n",
              "          const dataTable =\n",
              "            await google.colab.kernel.invokeFunction('convertToInteractive',\n",
              "                                                     [key], {});\n",
              "          if (!dataTable) return;\n",
              "\n",
              "          const docLinkHtml = 'Like what you see? Visit the ' +\n",
              "            '<a target=\"_blank\" href=https://colab.research.google.com/notebooks/data_table.ipynb>data table notebook</a>'\n",
              "            + ' to learn more about interactive tables.';\n",
              "          element.innerHTML = '';\n",
              "          dataTable['output_type'] = 'display_data';\n",
              "          await google.colab.output.renderOutput(dataTable, element);\n",
              "          const docLink = document.createElement('div');\n",
              "          docLink.innerHTML = docLinkHtml;\n",
              "          element.appendChild(docLink);\n",
              "        }\n",
              "      </script>\n",
              "    </div>\n",
              "  </div>\n",
              "  "
            ]
          },
          "metadata": {},
          "execution_count": 31
        }
      ]
    },
    {
      "cell_type": "markdown",
      "source": [
        "Remove punctuation"
      ],
      "metadata": {
        "id": "J5zauEBFbXWo"
      }
    },
    {
      "cell_type": "code",
      "source": [
        "news_dataset['News'] = news_dataset['News'].str.replace(r'[^\\w\\s]+', '')\n",
        "news_dataset.head()"
      ],
      "metadata": {
        "colab": {
          "base_uri": "https://localhost:8080/",
          "height": 241
        },
        "id": "nB9NIAGJdODQ",
        "outputId": "f2c3616e-85d0-4969-894f-63b7c8b0134a"
      },
      "execution_count": 32,
      "outputs": [
        {
          "output_type": "stream",
          "name": "stderr",
          "text": [
            "/usr/local/lib/python3.7/dist-packages/ipykernel_launcher.py:1: FutureWarning: The default value of regex will change from True to False in a future version.\n",
            "  \"\"\"Entry point for launching an IPython kernel.\n"
          ]
        },
        {
          "output_type": "execute_result",
          "data": {
            "text/plain": [
              "                                           Head_Line  \\\n",
              "0  Indiaâ€™s Licious raises $150 million for its ...   \n",
              "1  Bazaar raises $70 million from Tiger Global an...   \n",
              "2  Amazon accuses estranged Indian partner Future...   \n",
              "3  COVID rapid tests available on e-commerce in C...   \n",
              "4  AiFi adds new funding into its cart to expand ...   \n",
              "\n",
              "                                             Content        Date  \\\n",
              "0  Licious, a Bengaluru-based startup that sells ...  12/31/2020   \n",
              "1  Dragoneer Investment Group and Tiger Global ar...  12/28/2020   \n",
              "2  Amazonâ€™s two-year effort to halt a $3.4 bill...  12/25/2020   \n",
              "3  China is allowing the public to take COVID-19 ...  12/21/2020   \n",
              "4  Contactless stores are gaining traction, more ...  12/18/2020   \n",
              "\n",
              "                                                News  \n",
              "0  indiaâs licious raises 150 million for its fre...  \n",
              "1  bazaar raises 70 million from tiger global and...  \n",
              "2  amazon accuses estranged indian partner future...  \n",
              "3  covid rapid tests available on ecommerce in ch...  \n",
              "4  aifi adds new funding into its cart to expand ...  "
            ],
            "text/html": [
              "\n",
              "  <div id=\"df-c71c90f4-8d43-4f83-bf24-4eaaf49a1109\">\n",
              "    <div class=\"colab-df-container\">\n",
              "      <div>\n",
              "<style scoped>\n",
              "    .dataframe tbody tr th:only-of-type {\n",
              "        vertical-align: middle;\n",
              "    }\n",
              "\n",
              "    .dataframe tbody tr th {\n",
              "        vertical-align: top;\n",
              "    }\n",
              "\n",
              "    .dataframe thead th {\n",
              "        text-align: right;\n",
              "    }\n",
              "</style>\n",
              "<table border=\"1\" class=\"dataframe\">\n",
              "  <thead>\n",
              "    <tr style=\"text-align: right;\">\n",
              "      <th></th>\n",
              "      <th>Head_Line</th>\n",
              "      <th>Content</th>\n",
              "      <th>Date</th>\n",
              "      <th>News</th>\n",
              "    </tr>\n",
              "  </thead>\n",
              "  <tbody>\n",
              "    <tr>\n",
              "      <th>0</th>\n",
              "      <td>Indiaâ€™s Licious raises $150 million for its ...</td>\n",
              "      <td>Licious, a Bengaluru-based startup that sells ...</td>\n",
              "      <td>12/31/2020</td>\n",
              "      <td>indiaâs licious raises 150 million for its fre...</td>\n",
              "    </tr>\n",
              "    <tr>\n",
              "      <th>1</th>\n",
              "      <td>Bazaar raises $70 million from Tiger Global an...</td>\n",
              "      <td>Dragoneer Investment Group and Tiger Global ar...</td>\n",
              "      <td>12/28/2020</td>\n",
              "      <td>bazaar raises 70 million from tiger global and...</td>\n",
              "    </tr>\n",
              "    <tr>\n",
              "      <th>2</th>\n",
              "      <td>Amazon accuses estranged Indian partner Future...</td>\n",
              "      <td>Amazonâ€™s two-year effort to halt a $3.4 bill...</td>\n",
              "      <td>12/25/2020</td>\n",
              "      <td>amazon accuses estranged indian partner future...</td>\n",
              "    </tr>\n",
              "    <tr>\n",
              "      <th>3</th>\n",
              "      <td>COVID rapid tests available on e-commerce in C...</td>\n",
              "      <td>China is allowing the public to take COVID-19 ...</td>\n",
              "      <td>12/21/2020</td>\n",
              "      <td>covid rapid tests available on ecommerce in ch...</td>\n",
              "    </tr>\n",
              "    <tr>\n",
              "      <th>4</th>\n",
              "      <td>AiFi adds new funding into its cart to expand ...</td>\n",
              "      <td>Contactless stores are gaining traction, more ...</td>\n",
              "      <td>12/18/2020</td>\n",
              "      <td>aifi adds new funding into its cart to expand ...</td>\n",
              "    </tr>\n",
              "  </tbody>\n",
              "</table>\n",
              "</div>\n",
              "      <button class=\"colab-df-convert\" onclick=\"convertToInteractive('df-c71c90f4-8d43-4f83-bf24-4eaaf49a1109')\"\n",
              "              title=\"Convert this dataframe to an interactive table.\"\n",
              "              style=\"display:none;\">\n",
              "        \n",
              "  <svg xmlns=\"http://www.w3.org/2000/svg\" height=\"24px\"viewBox=\"0 0 24 24\"\n",
              "       width=\"24px\">\n",
              "    <path d=\"M0 0h24v24H0V0z\" fill=\"none\"/>\n",
              "    <path d=\"M18.56 5.44l.94 2.06.94-2.06 2.06-.94-2.06-.94-.94-2.06-.94 2.06-2.06.94zm-11 1L8.5 8.5l.94-2.06 2.06-.94-2.06-.94L8.5 2.5l-.94 2.06-2.06.94zm10 10l.94 2.06.94-2.06 2.06-.94-2.06-.94-.94-2.06-.94 2.06-2.06.94z\"/><path d=\"M17.41 7.96l-1.37-1.37c-.4-.4-.92-.59-1.43-.59-.52 0-1.04.2-1.43.59L10.3 9.45l-7.72 7.72c-.78.78-.78 2.05 0 2.83L4 21.41c.39.39.9.59 1.41.59.51 0 1.02-.2 1.41-.59l7.78-7.78 2.81-2.81c.8-.78.8-2.07 0-2.86zM5.41 20L4 18.59l7.72-7.72 1.47 1.35L5.41 20z\"/>\n",
              "  </svg>\n",
              "      </button>\n",
              "      \n",
              "  <style>\n",
              "    .colab-df-container {\n",
              "      display:flex;\n",
              "      flex-wrap:wrap;\n",
              "      gap: 12px;\n",
              "    }\n",
              "\n",
              "    .colab-df-convert {\n",
              "      background-color: #E8F0FE;\n",
              "      border: none;\n",
              "      border-radius: 50%;\n",
              "      cursor: pointer;\n",
              "      display: none;\n",
              "      fill: #1967D2;\n",
              "      height: 32px;\n",
              "      padding: 0 0 0 0;\n",
              "      width: 32px;\n",
              "    }\n",
              "\n",
              "    .colab-df-convert:hover {\n",
              "      background-color: #E2EBFA;\n",
              "      box-shadow: 0px 1px 2px rgba(60, 64, 67, 0.3), 0px 1px 3px 1px rgba(60, 64, 67, 0.15);\n",
              "      fill: #174EA6;\n",
              "    }\n",
              "\n",
              "    [theme=dark] .colab-df-convert {\n",
              "      background-color: #3B4455;\n",
              "      fill: #D2E3FC;\n",
              "    }\n",
              "\n",
              "    [theme=dark] .colab-df-convert:hover {\n",
              "      background-color: #434B5C;\n",
              "      box-shadow: 0px 1px 3px 1px rgba(0, 0, 0, 0.15);\n",
              "      filter: drop-shadow(0px 1px 2px rgba(0, 0, 0, 0.3));\n",
              "      fill: #FFFFFF;\n",
              "    }\n",
              "  </style>\n",
              "\n",
              "      <script>\n",
              "        const buttonEl =\n",
              "          document.querySelector('#df-c71c90f4-8d43-4f83-bf24-4eaaf49a1109 button.colab-df-convert');\n",
              "        buttonEl.style.display =\n",
              "          google.colab.kernel.accessAllowed ? 'block' : 'none';\n",
              "\n",
              "        async function convertToInteractive(key) {\n",
              "          const element = document.querySelector('#df-c71c90f4-8d43-4f83-bf24-4eaaf49a1109');\n",
              "          const dataTable =\n",
              "            await google.colab.kernel.invokeFunction('convertToInteractive',\n",
              "                                                     [key], {});\n",
              "          if (!dataTable) return;\n",
              "\n",
              "          const docLinkHtml = 'Like what you see? Visit the ' +\n",
              "            '<a target=\"_blank\" href=https://colab.research.google.com/notebooks/data_table.ipynb>data table notebook</a>'\n",
              "            + ' to learn more about interactive tables.';\n",
              "          element.innerHTML = '';\n",
              "          dataTable['output_type'] = 'display_data';\n",
              "          await google.colab.output.renderOutput(dataTable, element);\n",
              "          const docLink = document.createElement('div');\n",
              "          docLink.innerHTML = docLinkHtml;\n",
              "          element.appendChild(docLink);\n",
              "        }\n",
              "      </script>\n",
              "    </div>\n",
              "  </div>\n",
              "  "
            ]
          },
          "metadata": {},
          "execution_count": 32
        }
      ]
    },
    {
      "cell_type": "markdown",
      "source": [
        "Removing white space"
      ],
      "metadata": {
        "id": "n0hKfQuFbbsw"
      }
    },
    {
      "cell_type": "code",
      "source": [
        "news_dataset['News']['News'] = news_dataset['News'].str.replace(r'\\s{2,}', ' ',regex=True)\n",
        "news_dataset.head()"
      ],
      "metadata": {
        "colab": {
          "base_uri": "https://localhost:8080/",
          "height": 206
        },
        "id": "vkXDQRqqdQd5",
        "outputId": "23866fa9-9a1f-4b0e-bba7-7c1281c281cf"
      },
      "execution_count": 33,
      "outputs": [
        {
          "output_type": "execute_result",
          "data": {
            "text/plain": [
              "                                           Head_Line  \\\n",
              "0  Indiaâ€™s Licious raises $150 million for its ...   \n",
              "1  Bazaar raises $70 million from Tiger Global an...   \n",
              "2  Amazon accuses estranged Indian partner Future...   \n",
              "3  COVID rapid tests available on e-commerce in C...   \n",
              "4  AiFi adds new funding into its cart to expand ...   \n",
              "\n",
              "                                             Content        Date  \\\n",
              "0  Licious, a Bengaluru-based startup that sells ...  12/31/2020   \n",
              "1  Dragoneer Investment Group and Tiger Global ar...  12/28/2020   \n",
              "2  Amazonâ€™s two-year effort to halt a $3.4 bill...  12/25/2020   \n",
              "3  China is allowing the public to take COVID-19 ...  12/21/2020   \n",
              "4  Contactless stores are gaining traction, more ...  12/18/2020   \n",
              "\n",
              "                                                News  \n",
              "0  indiaâs licious raises 150 million for its fre...  \n",
              "1  bazaar raises 70 million from tiger global and...  \n",
              "2  amazon accuses estranged indian partner future...  \n",
              "3  covid rapid tests available on ecommerce in ch...  \n",
              "4  aifi adds new funding into its cart to expand ...  "
            ],
            "text/html": [
              "\n",
              "  <div id=\"df-547adcbf-f01b-4f75-aa3a-9c5f94c50324\">\n",
              "    <div class=\"colab-df-container\">\n",
              "      <div>\n",
              "<style scoped>\n",
              "    .dataframe tbody tr th:only-of-type {\n",
              "        vertical-align: middle;\n",
              "    }\n",
              "\n",
              "    .dataframe tbody tr th {\n",
              "        vertical-align: top;\n",
              "    }\n",
              "\n",
              "    .dataframe thead th {\n",
              "        text-align: right;\n",
              "    }\n",
              "</style>\n",
              "<table border=\"1\" class=\"dataframe\">\n",
              "  <thead>\n",
              "    <tr style=\"text-align: right;\">\n",
              "      <th></th>\n",
              "      <th>Head_Line</th>\n",
              "      <th>Content</th>\n",
              "      <th>Date</th>\n",
              "      <th>News</th>\n",
              "    </tr>\n",
              "  </thead>\n",
              "  <tbody>\n",
              "    <tr>\n",
              "      <th>0</th>\n",
              "      <td>Indiaâ€™s Licious raises $150 million for its ...</td>\n",
              "      <td>Licious, a Bengaluru-based startup that sells ...</td>\n",
              "      <td>12/31/2020</td>\n",
              "      <td>indiaâs licious raises 150 million for its fre...</td>\n",
              "    </tr>\n",
              "    <tr>\n",
              "      <th>1</th>\n",
              "      <td>Bazaar raises $70 million from Tiger Global an...</td>\n",
              "      <td>Dragoneer Investment Group and Tiger Global ar...</td>\n",
              "      <td>12/28/2020</td>\n",
              "      <td>bazaar raises 70 million from tiger global and...</td>\n",
              "    </tr>\n",
              "    <tr>\n",
              "      <th>2</th>\n",
              "      <td>Amazon accuses estranged Indian partner Future...</td>\n",
              "      <td>Amazonâ€™s two-year effort to halt a $3.4 bill...</td>\n",
              "      <td>12/25/2020</td>\n",
              "      <td>amazon accuses estranged indian partner future...</td>\n",
              "    </tr>\n",
              "    <tr>\n",
              "      <th>3</th>\n",
              "      <td>COVID rapid tests available on e-commerce in C...</td>\n",
              "      <td>China is allowing the public to take COVID-19 ...</td>\n",
              "      <td>12/21/2020</td>\n",
              "      <td>covid rapid tests available on ecommerce in ch...</td>\n",
              "    </tr>\n",
              "    <tr>\n",
              "      <th>4</th>\n",
              "      <td>AiFi adds new funding into its cart to expand ...</td>\n",
              "      <td>Contactless stores are gaining traction, more ...</td>\n",
              "      <td>12/18/2020</td>\n",
              "      <td>aifi adds new funding into its cart to expand ...</td>\n",
              "    </tr>\n",
              "  </tbody>\n",
              "</table>\n",
              "</div>\n",
              "      <button class=\"colab-df-convert\" onclick=\"convertToInteractive('df-547adcbf-f01b-4f75-aa3a-9c5f94c50324')\"\n",
              "              title=\"Convert this dataframe to an interactive table.\"\n",
              "              style=\"display:none;\">\n",
              "        \n",
              "  <svg xmlns=\"http://www.w3.org/2000/svg\" height=\"24px\"viewBox=\"0 0 24 24\"\n",
              "       width=\"24px\">\n",
              "    <path d=\"M0 0h24v24H0V0z\" fill=\"none\"/>\n",
              "    <path d=\"M18.56 5.44l.94 2.06.94-2.06 2.06-.94-2.06-.94-.94-2.06-.94 2.06-2.06.94zm-11 1L8.5 8.5l.94-2.06 2.06-.94-2.06-.94L8.5 2.5l-.94 2.06-2.06.94zm10 10l.94 2.06.94-2.06 2.06-.94-2.06-.94-.94-2.06-.94 2.06-2.06.94z\"/><path d=\"M17.41 7.96l-1.37-1.37c-.4-.4-.92-.59-1.43-.59-.52 0-1.04.2-1.43.59L10.3 9.45l-7.72 7.72c-.78.78-.78 2.05 0 2.83L4 21.41c.39.39.9.59 1.41.59.51 0 1.02-.2 1.41-.59l7.78-7.78 2.81-2.81c.8-.78.8-2.07 0-2.86zM5.41 20L4 18.59l7.72-7.72 1.47 1.35L5.41 20z\"/>\n",
              "  </svg>\n",
              "      </button>\n",
              "      \n",
              "  <style>\n",
              "    .colab-df-container {\n",
              "      display:flex;\n",
              "      flex-wrap:wrap;\n",
              "      gap: 12px;\n",
              "    }\n",
              "\n",
              "    .colab-df-convert {\n",
              "      background-color: #E8F0FE;\n",
              "      border: none;\n",
              "      border-radius: 50%;\n",
              "      cursor: pointer;\n",
              "      display: none;\n",
              "      fill: #1967D2;\n",
              "      height: 32px;\n",
              "      padding: 0 0 0 0;\n",
              "      width: 32px;\n",
              "    }\n",
              "\n",
              "    .colab-df-convert:hover {\n",
              "      background-color: #E2EBFA;\n",
              "      box-shadow: 0px 1px 2px rgba(60, 64, 67, 0.3), 0px 1px 3px 1px rgba(60, 64, 67, 0.15);\n",
              "      fill: #174EA6;\n",
              "    }\n",
              "\n",
              "    [theme=dark] .colab-df-convert {\n",
              "      background-color: #3B4455;\n",
              "      fill: #D2E3FC;\n",
              "    }\n",
              "\n",
              "    [theme=dark] .colab-df-convert:hover {\n",
              "      background-color: #434B5C;\n",
              "      box-shadow: 0px 1px 3px 1px rgba(0, 0, 0, 0.15);\n",
              "      filter: drop-shadow(0px 1px 2px rgba(0, 0, 0, 0.3));\n",
              "      fill: #FFFFFF;\n",
              "    }\n",
              "  </style>\n",
              "\n",
              "      <script>\n",
              "        const buttonEl =\n",
              "          document.querySelector('#df-547adcbf-f01b-4f75-aa3a-9c5f94c50324 button.colab-df-convert');\n",
              "        buttonEl.style.display =\n",
              "          google.colab.kernel.accessAllowed ? 'block' : 'none';\n",
              "\n",
              "        async function convertToInteractive(key) {\n",
              "          const element = document.querySelector('#df-547adcbf-f01b-4f75-aa3a-9c5f94c50324');\n",
              "          const dataTable =\n",
              "            await google.colab.kernel.invokeFunction('convertToInteractive',\n",
              "                                                     [key], {});\n",
              "          if (!dataTable) return;\n",
              "\n",
              "          const docLinkHtml = 'Like what you see? Visit the ' +\n",
              "            '<a target=\"_blank\" href=https://colab.research.google.com/notebooks/data_table.ipynb>data table notebook</a>'\n",
              "            + ' to learn more about interactive tables.';\n",
              "          element.innerHTML = '';\n",
              "          dataTable['output_type'] = 'display_data';\n",
              "          await google.colab.output.renderOutput(dataTable, element);\n",
              "          const docLink = document.createElement('div');\n",
              "          docLink.innerHTML = docLinkHtml;\n",
              "          element.appendChild(docLink);\n",
              "        }\n",
              "      </script>\n",
              "    </div>\n",
              "  </div>\n",
              "  "
            ]
          },
          "metadata": {},
          "execution_count": 33
        }
      ]
    },
    {
      "cell_type": "markdown",
      "source": [
        "Tokenize words and Clean-up text"
      ],
      "metadata": {
        "id": "m_IJcclbbeke"
      }
    },
    {
      "cell_type": "code",
      "source": [
        "import gensim\n",
        "from gensim.utils import simple_preprocess\n",
        "\n",
        "def sent_to_words(sentences):\n",
        "    for sentence in sentences:\n",
        "        yield(gensim.utils.simple_preprocess(str(sentence), deacc=True))  # deacc=True removes punctuations\n",
        "\n",
        "data = news_dataset.News.values.tolist()\n",
        "data_words = list(sent_to_words(data))\n",
        "print(data_words[:1])"
      ],
      "metadata": {
        "colab": {
          "base_uri": "https://localhost:8080/"
        },
        "id": "L1Gpxb1XdTmo",
        "outputId": "7964d724-8ab9-435f-d323-892fdbd8d64e"
      },
      "execution_count": 34,
      "outputs": [
        {
          "output_type": "stream",
          "name": "stdout",
          "text": [
            "[['indiaas', 'licious', 'raises', 'million', 'for', 'its', 'fresh', 'animal', 'protein', 'ecommerce', 'platform', 'licious', 'bengalurubased', 'startup', 'that', 'sells', 'fresh', 'meat', 'seafood', 'and', 'other', 'fresh', 'animal', 'protein', 'online', 'and', 'which', 'became', 'the', 'nationas', 'first', 'brand', 'to', 'become', 'unicorn', 'last', 'year', 'said', 'on', 'tuesday', 'it', 'has', 'raised', 'an', 'additional', 'million', 'from', 'set', 'of', 'latestage', 'investors', 'in', 'move', 'that', 'appears', 'to', 'be', 'precursor', 'to', 'startupas', 'initial', 'public', 'offering', 'the', 'round', 'was', 'led', 'by', 'singapore', 'based', 'amansa', 'capital', 'kotak', 'pe', 'and', 'axis', 'growth', 'avenues', 'aif', 'number', 'of', 'existing', 'investors', 'as', 'well', 'as', 'new', 'set', 'of', 'angel', 'investors', 'including', 'nithin', 'kamath', 'and', 'nikhil', 'kamath', 'of', 'zerodha', 'boatas', 'aman', 'gupta', 'and', 'haresh', 'chawla', 'of', 'true', 'north', 'also', 'participated', 'in', 'the', 'new', 'round', 'the', 'new', 'funding', 'which', 'is', 'an', 'extension', 'to', 'the', 'million', 'series', 'disclosed', 'last', 'year', 'brings', 'liciousa', 'alltime', 'raise', 'to', 'million', 'according', 'to', 'insight', 'platform', 'tracxn', 'licious', 'which', 'counts', 'temasek', 'one', 'capital', 'and', 'iifl', 'among', 'its', 'backers', 'operates', 'an', 'eponymous', 'ecommerce', 'platform', 'where', 'it', 'sells', 'meat', 'and', 'seafood', 'in', 'over', 'dozen', 'indian', 'cities', 'the', 'startup', 'has', 'built', 'supply', 'chain', 'network', 'across', 'several', 'indian', 'cities', 'to', 'be', 'able', 'to', 'procure', 'meat', 'and', 'seafood', 'keep', 'them', 'fresh', 'and', 'deliver', 'within', 'hours', 'of', 'the', 'order', 'itas', 'among', 'group', 'of', 'growing', 'startups', 'that', 'is', 'disrupting', 'the', 'meat', 'and', 'seafood', 'category', 'an', 'area', 'that', 'has', 'largely', 'been', 'unorganized', 'and', 'underserved', 'analysts', 'at', 'bernstein', 'estimate', 'that', 'the', 'meat', 'and', 'seafood', 'market', 'is', 'billion', 'opportunity', 'captain', 'fresh', 'which', 'operates', 'marketplace', 'earlier', 'this', 'month', 'announced', 'million', 'fundraise', 'that', 'more', 'than', 'doubled', 'the', 'startupas', 'valuation', 'in', 'just', 'three', 'months', 'aœtoday', 'licious', 'is', 'the', 'highest', 'valued', 'startup', 'in', 'india', 'this', 'valuation', 'is', 'direct', 'outcome', 'of', 'the', 'value', 'that', 'we', 'have', 'created', 'for', 'our', 'stakeholders', 'investments', 'made', 'towards', 'building', 'the', 'category', 'have', 'borne', 'us', 'rich', 'dividends', 'and', 'have', 'propelled', 'growth', 'for', 'the', 'company', 'and', 'its', 'peoplea', 'said', 'vivek', 'gupta', 'and', 'abhay', 'hanjura', 'cofounders', 'of', 'licious', 'in', 'joint', 'statement', 'aœthe', 'growing', 'interest', 'of', 'investors', 'from', 'india', 'and', 'abroad', 'alike', 'is', 'an', 'added', 'assurance', 'that', 'obsession', 'with', 'customers', 'quality', 'and', 'service', 'standards', 'are', 'the', 'pillars', 'of', 'the', 'best', 'businessesa', 'the', 'startup', 'did', 'not', 'disclose', 'any', 'metrics', 'today', 'but', 'it', 'has', 'been', 'beneficiary', 'of', 'the', 'surge', 'in', 'brandsa', 'popularity', 'amid', 'the', 'pandemic', 'in', 'october', 'it', 'said', 'its', 'business', 'had', 'grown', 'by', 'over', 'yearonyear', 'sharp', 'scale', 'up', 'in', 'operations', 'of', 'digital', 'brands', 'in', 'fy', 'partly', 'pushed', 'by', 'covid', 'image', 'and', 'analysis', 'bernstein', 'aœwe', 'are', 'excited', 'to', 'partner', 'with', 'licious', 'indiaas', 'branda', 'said', 'sriniwasan', 'md', 'of', 'kotak', 'investment', 'advisors', 'in', 'statement', 'aœdue', 'to', 'liciousa', 'focus', 'on', 'quality', 'and', 'strong', 'execution', 'its', 'successfully', 'creating', 'habituated', 'and', 'loyal', 'customer', 'base', 'we', 'believe', 'under', 'the', 'leadership', 'of', 'abhay', 'and', 'vivek', 'licious', 'is', 'best', 'positioned', 'to', 'serve', 'the', 'fresh', 'meat', 'and', 'seafood', 'need', 'of', 'indiaa']]\n"
          ]
        }
      ]
    },
    {
      "cell_type": "code",
      "source": [
        "# Build the bigram and trigram models\n",
        "bigram = gensim.models.Phrases(data_words, min_count=5, threshold=100) # higher threshold fewer phrases.\n",
        "trigram = gensim.models.Phrases(bigram[data_words], threshold=100)\n",
        "# Faster way to get a sentence clubbed as a trigram/bigram\n",
        "bigram_mod = gensim.models.phrases.Phraser(bigram)\n",
        "trigram_mod = gensim.models.phrases.Phraser(trigram)"
      ],
      "metadata": {
        "id": "3uIqzLe3dWM_",
        "colab": {
          "base_uri": "https://localhost:8080/"
        },
        "outputId": "fca0b868-0694-4bba-ce63-38aa002c00d9"
      },
      "execution_count": 36,
      "outputs": [
        {
          "output_type": "stream",
          "name": "stderr",
          "text": [
            "/usr/local/lib/python3.7/dist-packages/gensim/models/phrases.py:598: UserWarning: For a faster implementation, use the gensim.models.phrases.Phraser class\n",
            "  warnings.warn(\"For a faster implementation, use the gensim.models.phrases.Phraser class\")\n"
          ]
        }
      ]
    },
    {
      "cell_type": "markdown",
      "source": [
        "Remove Stopwords, Make Bigrams/Trigram and Lemmatize"
      ],
      "metadata": {
        "id": "t5KTA5NwbjVe"
      }
    },
    {
      "cell_type": "code",
      "source": [
        "!pip install stopwords"
      ],
      "metadata": {
        "colab": {
          "base_uri": "https://localhost:8080/"
        },
        "id": "P0TzS4KTKr_i",
        "outputId": "015771a7-57f9-43a0-a8c8-c0abc01c4143"
      },
      "execution_count": 37,
      "outputs": [
        {
          "output_type": "stream",
          "name": "stdout",
          "text": [
            "Collecting stopwords\n",
            "  Downloading stopwords-1.0.0-py2.py3-none-any.whl (37 kB)\n",
            "Installing collected packages: stopwords\n",
            "Successfully installed stopwords-1.0.0\n"
          ]
        }
      ]
    },
    {
      "cell_type": "code",
      "source": [
        "import nltk\n",
        "from nltk.corpus import stopwords\n",
        "nltk.download('stopwords')"
      ],
      "metadata": {
        "colab": {
          "base_uri": "https://localhost:8080/"
        },
        "id": "VxQAYYcoKtpS",
        "outputId": "0f9bbeaa-41fe-47d2-a422-936c1dbbfb2e"
      },
      "execution_count": 38,
      "outputs": [
        {
          "output_type": "stream",
          "name": "stdout",
          "text": [
            "[nltk_data] Downloading package stopwords to /root/nltk_data...\n",
            "[nltk_data]   Unzipping corpora/stopwords.zip.\n"
          ]
        },
        {
          "output_type": "execute_result",
          "data": {
            "text/plain": [
              "True"
            ]
          },
          "metadata": {},
          "execution_count": 38
        }
      ]
    },
    {
      "cell_type": "code",
      "source": [
        "def remove_stopwords(texts):\n",
        "    return [[word for word in simple_preprocess(str(doc)) if word not in stopwords.words(\"english\") and len(word) > 3 and word.isalpha()] for doc in texts]\n",
        "            \n",
        "\n",
        "#def remove_stopwords(texts):\n",
        "#   return [[word for word in simple_preprocess(str(doc)) if word not in stop_words] for doc in texts]"
      ],
      "metadata": {
        "id": "1vfb8ufjKw7S"
      },
      "execution_count": 39,
      "outputs": []
    },
    {
      "cell_type": "code",
      "source": [
        "def make_bigrams(texts):\n",
        "    return [bigram_mod[doc] for doc in texts]\n",
        "def make_trigrams(texts):\n",
        "    return [trigram_mod[bigram_mod[doc]] for doc in texts]\n",
        "def lemmatization(texts, allowed_postags=['NOUN', 'ADJ', 'VERB', 'ADV']):\n",
        "    \"\"\"https://spacy.io/api/annotation\"\"\"\n",
        "    texts_out = []\n",
        "    for sent in texts:\n",
        "        doc = nlp(\" \".join(sent)) \n",
        "        texts_out.append([token.lemma_ for token in doc if token.pos_ in allowed_postags])\n",
        "    return texts_out"
      ],
      "metadata": {
        "id": "pT3x3fViKy76"
      },
      "execution_count": 40,
      "outputs": []
    },
    {
      "cell_type": "code",
      "source": [
        "!python -m spacy download en_core_web_sm"
      ],
      "metadata": {
        "colab": {
          "base_uri": "https://localhost:8080/"
        },
        "id": "Zi013HglK00L",
        "outputId": "3019bde0-8dc8-40e6-8cfc-ba94d027d75a"
      },
      "execution_count": 41,
      "outputs": [
        {
          "output_type": "stream",
          "name": "stdout",
          "text": [
            "Collecting en_core_web_sm==2.2.5\n",
            "  Downloading https://github.com/explosion/spacy-models/releases/download/en_core_web_sm-2.2.5/en_core_web_sm-2.2.5.tar.gz (12.0 MB)\n",
            "\u001b[K     |████████████████████████████████| 12.0 MB 4.2 MB/s \n",
            "\u001b[?25hRequirement already satisfied: spacy>=2.2.2 in /usr/local/lib/python3.7/dist-packages (from en_core_web_sm==2.2.5) (2.2.4)\n",
            "Requirement already satisfied: setuptools in /usr/local/lib/python3.7/dist-packages (from spacy>=2.2.2->en_core_web_sm==2.2.5) (57.4.0)\n",
            "Requirement already satisfied: requests<3.0.0,>=2.13.0 in /usr/local/lib/python3.7/dist-packages (from spacy>=2.2.2->en_core_web_sm==2.2.5) (2.23.0)\n",
            "Requirement already satisfied: numpy>=1.15.0 in /usr/local/lib/python3.7/dist-packages (from spacy>=2.2.2->en_core_web_sm==2.2.5) (1.21.6)\n",
            "Requirement already satisfied: thinc==7.4.0 in /usr/local/lib/python3.7/dist-packages (from spacy>=2.2.2->en_core_web_sm==2.2.5) (7.4.0)\n",
            "Requirement already satisfied: plac<1.2.0,>=0.9.6 in /usr/local/lib/python3.7/dist-packages (from spacy>=2.2.2->en_core_web_sm==2.2.5) (1.1.3)\n",
            "Requirement already satisfied: murmurhash<1.1.0,>=0.28.0 in /usr/local/lib/python3.7/dist-packages (from spacy>=2.2.2->en_core_web_sm==2.2.5) (1.0.7)\n",
            "Requirement already satisfied: preshed<3.1.0,>=3.0.2 in /usr/local/lib/python3.7/dist-packages (from spacy>=2.2.2->en_core_web_sm==2.2.5) (3.0.6)\n",
            "Requirement already satisfied: wasabi<1.1.0,>=0.4.0 in /usr/local/lib/python3.7/dist-packages (from spacy>=2.2.2->en_core_web_sm==2.2.5) (0.9.1)\n",
            "Requirement already satisfied: cymem<2.1.0,>=2.0.2 in /usr/local/lib/python3.7/dist-packages (from spacy>=2.2.2->en_core_web_sm==2.2.5) (2.0.6)\n",
            "Requirement already satisfied: catalogue<1.1.0,>=0.0.7 in /usr/local/lib/python3.7/dist-packages (from spacy>=2.2.2->en_core_web_sm==2.2.5) (1.0.0)\n",
            "Requirement already satisfied: tqdm<5.0.0,>=4.38.0 in /usr/local/lib/python3.7/dist-packages (from spacy>=2.2.2->en_core_web_sm==2.2.5) (4.64.0)\n",
            "Requirement already satisfied: srsly<1.1.0,>=1.0.2 in /usr/local/lib/python3.7/dist-packages (from spacy>=2.2.2->en_core_web_sm==2.2.5) (1.0.5)\n",
            "Requirement already satisfied: blis<0.5.0,>=0.4.0 in /usr/local/lib/python3.7/dist-packages (from spacy>=2.2.2->en_core_web_sm==2.2.5) (0.4.1)\n",
            "Requirement already satisfied: importlib-metadata>=0.20 in /usr/local/lib/python3.7/dist-packages (from catalogue<1.1.0,>=0.0.7->spacy>=2.2.2->en_core_web_sm==2.2.5) (4.11.3)\n",
            "Requirement already satisfied: zipp>=0.5 in /usr/local/lib/python3.7/dist-packages (from importlib-metadata>=0.20->catalogue<1.1.0,>=0.0.7->spacy>=2.2.2->en_core_web_sm==2.2.5) (3.8.0)\n",
            "Requirement already satisfied: typing-extensions>=3.6.4 in /usr/local/lib/python3.7/dist-packages (from importlib-metadata>=0.20->catalogue<1.1.0,>=0.0.7->spacy>=2.2.2->en_core_web_sm==2.2.5) (4.2.0)\n",
            "Requirement already satisfied: certifi>=2017.4.17 in /usr/local/lib/python3.7/dist-packages (from requests<3.0.0,>=2.13.0->spacy>=2.2.2->en_core_web_sm==2.2.5) (2021.10.8)\n",
            "Requirement already satisfied: urllib3!=1.25.0,!=1.25.1,<1.26,>=1.21.1 in /usr/local/lib/python3.7/dist-packages (from requests<3.0.0,>=2.13.0->spacy>=2.2.2->en_core_web_sm==2.2.5) (1.24.3)\n",
            "Requirement already satisfied: idna<3,>=2.5 in /usr/local/lib/python3.7/dist-packages (from requests<3.0.0,>=2.13.0->spacy>=2.2.2->en_core_web_sm==2.2.5) (2.10)\n",
            "Requirement already satisfied: chardet<4,>=3.0.2 in /usr/local/lib/python3.7/dist-packages (from requests<3.0.0,>=2.13.0->spacy>=2.2.2->en_core_web_sm==2.2.5) (3.0.4)\n",
            "\u001b[38;5;2m✔ Download and installation successful\u001b[0m\n",
            "You can now load the model via spacy.load('en_core_web_sm')\n"
          ]
        }
      ]
    },
    {
      "cell_type": "code",
      "source": [
        "import spacy\n",
        "print(data_words[:1])\n",
        "# Remove Stop Words\n",
        "data_words_nostops = remove_stopwords(data_words)\n",
        "print(data_words_nostops[:1])"
      ],
      "metadata": {
        "colab": {
          "base_uri": "https://localhost:8080/"
        },
        "id": "I1-uX5MCK2iq",
        "outputId": "2ca20c51-668c-48f4-c9a2-6770ee6524fb"
      },
      "execution_count": 42,
      "outputs": [
        {
          "output_type": "stream",
          "name": "stdout",
          "text": [
            "[['indiaas', 'licious', 'raises', 'million', 'for', 'its', 'fresh', 'animal', 'protein', 'ecommerce', 'platform', 'licious', 'bengalurubased', 'startup', 'that', 'sells', 'fresh', 'meat', 'seafood', 'and', 'other', 'fresh', 'animal', 'protein', 'online', 'and', 'which', 'became', 'the', 'nationas', 'first', 'brand', 'to', 'become', 'unicorn', 'last', 'year', 'said', 'on', 'tuesday', 'it', 'has', 'raised', 'an', 'additional', 'million', 'from', 'set', 'of', 'latestage', 'investors', 'in', 'move', 'that', 'appears', 'to', 'be', 'precursor', 'to', 'startupas', 'initial', 'public', 'offering', 'the', 'round', 'was', 'led', 'by', 'singapore', 'based', 'amansa', 'capital', 'kotak', 'pe', 'and', 'axis', 'growth', 'avenues', 'aif', 'number', 'of', 'existing', 'investors', 'as', 'well', 'as', 'new', 'set', 'of', 'angel', 'investors', 'including', 'nithin', 'kamath', 'and', 'nikhil', 'kamath', 'of', 'zerodha', 'boatas', 'aman', 'gupta', 'and', 'haresh', 'chawla', 'of', 'true', 'north', 'also', 'participated', 'in', 'the', 'new', 'round', 'the', 'new', 'funding', 'which', 'is', 'an', 'extension', 'to', 'the', 'million', 'series', 'disclosed', 'last', 'year', 'brings', 'liciousa', 'alltime', 'raise', 'to', 'million', 'according', 'to', 'insight', 'platform', 'tracxn', 'licious', 'which', 'counts', 'temasek', 'one', 'capital', 'and', 'iifl', 'among', 'its', 'backers', 'operates', 'an', 'eponymous', 'ecommerce', 'platform', 'where', 'it', 'sells', 'meat', 'and', 'seafood', 'in', 'over', 'dozen', 'indian', 'cities', 'the', 'startup', 'has', 'built', 'supply', 'chain', 'network', 'across', 'several', 'indian', 'cities', 'to', 'be', 'able', 'to', 'procure', 'meat', 'and', 'seafood', 'keep', 'them', 'fresh', 'and', 'deliver', 'within', 'hours', 'of', 'the', 'order', 'itas', 'among', 'group', 'of', 'growing', 'startups', 'that', 'is', 'disrupting', 'the', 'meat', 'and', 'seafood', 'category', 'an', 'area', 'that', 'has', 'largely', 'been', 'unorganized', 'and', 'underserved', 'analysts', 'at', 'bernstein', 'estimate', 'that', 'the', 'meat', 'and', 'seafood', 'market', 'is', 'billion', 'opportunity', 'captain', 'fresh', 'which', 'operates', 'marketplace', 'earlier', 'this', 'month', 'announced', 'million', 'fundraise', 'that', 'more', 'than', 'doubled', 'the', 'startupas', 'valuation', 'in', 'just', 'three', 'months', 'aœtoday', 'licious', 'is', 'the', 'highest', 'valued', 'startup', 'in', 'india', 'this', 'valuation', 'is', 'direct', 'outcome', 'of', 'the', 'value', 'that', 'we', 'have', 'created', 'for', 'our', 'stakeholders', 'investments', 'made', 'towards', 'building', 'the', 'category', 'have', 'borne', 'us', 'rich', 'dividends', 'and', 'have', 'propelled', 'growth', 'for', 'the', 'company', 'and', 'its', 'peoplea', 'said', 'vivek', 'gupta', 'and', 'abhay', 'hanjura', 'cofounders', 'of', 'licious', 'in', 'joint', 'statement', 'aœthe', 'growing', 'interest', 'of', 'investors', 'from', 'india', 'and', 'abroad', 'alike', 'is', 'an', 'added', 'assurance', 'that', 'obsession', 'with', 'customers', 'quality', 'and', 'service', 'standards', 'are', 'the', 'pillars', 'of', 'the', 'best', 'businessesa', 'the', 'startup', 'did', 'not', 'disclose', 'any', 'metrics', 'today', 'but', 'it', 'has', 'been', 'beneficiary', 'of', 'the', 'surge', 'in', 'brandsa', 'popularity', 'amid', 'the', 'pandemic', 'in', 'october', 'it', 'said', 'its', 'business', 'had', 'grown', 'by', 'over', 'yearonyear', 'sharp', 'scale', 'up', 'in', 'operations', 'of', 'digital', 'brands', 'in', 'fy', 'partly', 'pushed', 'by', 'covid', 'image', 'and', 'analysis', 'bernstein', 'aœwe', 'are', 'excited', 'to', 'partner', 'with', 'licious', 'indiaas', 'branda', 'said', 'sriniwasan', 'md', 'of', 'kotak', 'investment', 'advisors', 'in', 'statement', 'aœdue', 'to', 'liciousa', 'focus', 'on', 'quality', 'and', 'strong', 'execution', 'its', 'successfully', 'creating', 'habituated', 'and', 'loyal', 'customer', 'base', 'we', 'believe', 'under', 'the', 'leadership', 'of', 'abhay', 'and', 'vivek', 'licious', 'is', 'best', 'positioned', 'to', 'serve', 'the', 'fresh', 'meat', 'and', 'seafood', 'need', 'of', 'indiaa']]\n",
            "[['indiaas', 'licious', 'raises', 'million', 'fresh', 'animal', 'protein', 'ecommerce', 'platform', 'licious', 'bengalurubased', 'startup', 'sells', 'fresh', 'meat', 'seafood', 'fresh', 'animal', 'protein', 'online', 'became', 'nationas', 'first', 'brand', 'become', 'unicorn', 'last', 'year', 'said', 'tuesday', 'raised', 'additional', 'million', 'latestage', 'investors', 'move', 'appears', 'precursor', 'startupas', 'initial', 'public', 'offering', 'round', 'singapore', 'based', 'amansa', 'capital', 'kotak', 'axis', 'growth', 'avenues', 'number', 'existing', 'investors', 'well', 'angel', 'investors', 'including', 'nithin', 'kamath', 'nikhil', 'kamath', 'zerodha', 'boatas', 'aman', 'gupta', 'haresh', 'chawla', 'true', 'north', 'also', 'participated', 'round', 'funding', 'extension', 'million', 'series', 'disclosed', 'last', 'year', 'brings', 'liciousa', 'alltime', 'raise', 'million', 'according', 'insight', 'platform', 'tracxn', 'licious', 'counts', 'temasek', 'capital', 'iifl', 'among', 'backers', 'operates', 'eponymous', 'ecommerce', 'platform', 'sells', 'meat', 'seafood', 'dozen', 'indian', 'cities', 'startup', 'built', 'supply', 'chain', 'network', 'across', 'several', 'indian', 'cities', 'able', 'procure', 'meat', 'seafood', 'keep', 'fresh', 'deliver', 'within', 'hours', 'order', 'itas', 'among', 'group', 'growing', 'startups', 'disrupting', 'meat', 'seafood', 'category', 'area', 'largely', 'unorganized', 'underserved', 'analysts', 'bernstein', 'estimate', 'meat', 'seafood', 'market', 'billion', 'opportunity', 'captain', 'fresh', 'operates', 'marketplace', 'earlier', 'month', 'announced', 'million', 'fundraise', 'doubled', 'startupas', 'valuation', 'three', 'months', 'aœtoday', 'licious', 'highest', 'valued', 'startup', 'india', 'valuation', 'direct', 'outcome', 'value', 'created', 'stakeholders', 'investments', 'made', 'towards', 'building', 'category', 'borne', 'rich', 'dividends', 'propelled', 'growth', 'company', 'peoplea', 'said', 'vivek', 'gupta', 'abhay', 'hanjura', 'cofounders', 'licious', 'joint', 'statement', 'aœthe', 'growing', 'interest', 'investors', 'india', 'abroad', 'alike', 'added', 'assurance', 'obsession', 'customers', 'quality', 'service', 'standards', 'pillars', 'best', 'businessesa', 'startup', 'disclose', 'metrics', 'today', 'beneficiary', 'surge', 'brandsa', 'popularity', 'amid', 'pandemic', 'october', 'said', 'business', 'grown', 'yearonyear', 'sharp', 'scale', 'operations', 'digital', 'brands', 'partly', 'pushed', 'covid', 'image', 'analysis', 'bernstein', 'aœwe', 'excited', 'partner', 'licious', 'indiaas', 'branda', 'said', 'sriniwasan', 'kotak', 'investment', 'advisors', 'statement', 'aœdue', 'liciousa', 'focus', 'quality', 'strong', 'execution', 'successfully', 'creating', 'habituated', 'loyal', 'customer', 'base', 'believe', 'leadership', 'abhay', 'vivek', 'licious', 'best', 'positioned', 'serve', 'fresh', 'meat', 'seafood', 'need', 'indiaa']]\n"
          ]
        }
      ]
    },
    {
      "cell_type": "code",
      "source": [
        "# Form Bigrams\n",
        "data_words_bigrams = make_bigrams(data_words_nostops)\n",
        "# Form Trigrams\n",
        "data_words_Trigram_bigrams = make_trigrams(data_words_bigrams)\n",
        "\n",
        "# Initialize spacy 'en' model, keeping only tagger component (for efficiency)\n",
        "nlp = spacy.load(\"en_core_web_sm\", disable=['parser', 'ner'])\n",
        "# Do lemmatization keeping only noun, adj, vb, adv\n",
        "data_lemmatized = lemmatization(data_words_Trigram_bigrams, allowed_postags=['NOUN', 'ADJ', 'VERB', 'ADV'])\n",
        "print(data_lemmatized[:1])"
      ],
      "metadata": {
        "colab": {
          "base_uri": "https://localhost:8080/"
        },
        "id": "62ypJ7j5K4M6",
        "outputId": "df41e175-dac8-4736-c0a8-6c2a8019aac6"
      },
      "execution_count": 43,
      "outputs": [
        {
          "output_type": "stream",
          "name": "stdout",
          "text": [
            "[['licious', 'raise', 'fresh', 'ecommerce', 'platform', 'licious', 'bengalurubase', 'startup', 'sell', 'fresh', 'meat', 'seafood', 'fresh', 'online', 'become', 'brand', 'become', 'unicorn', 'last', 'year', 'say', 'raise', 'additional', 'latestage', 'investor', 'move', 'appear', 'round', 'base', 'growth', 'avenue', 'number', 'exist', 'investor', 'well', 'angel_investor', 'include', 'true', 'also', 'participate', 'round', 'funding', 'extension', 'series', 'disclose', 'last', 'year', 'bring', 'liciousa', 'accord', 'insight', 'platform', 'tracxn', 'licious', 'count', 'temasek', 'capital', 'iifl', 'backer', 'operate', 'eponymous', 'ecommerce', 'platform', 'sell', 'meat', 'seafood', 'dozen', 'indian', 'city', 'startup', 'build', 'network', 'several', 'indian', 'city', 'able', 'procure', 'meat', 'seafood', 'keep', 'fresh', 'deliver', 'hour', 'order', 'group', 'grow', 'startup', 'disrupt', 'meat', 'seafood', 'category', 'area', 'largely', 'unorganized', 'underserved', 'analyst', 'meat', 'seafood', 'market', 'opportunity', 'captain_fresh', 'operate', 'marketplace', 'earlier', 'month', 'announce', 'fundraise', 'double', 'startupas', 'valuation', 'month', 'aœtoday', 'liciou', 'highest', 'value', 'startup', 'direct', 'outcome', 'value', 'create', 'stakeholder', 'investment', 'make', 'build', 'category', 'borne', 'rich', 'dividend', 'propel', 'growth', 'company', 'say', 'cofounder', 'licious', 'grow', 'interest', 'investor', 'abroad', 'alike', 'add', 'assurance', 'obsession', 'customer', 'quality', 'service', 'standard', 'pillar', 'best', 'businessesa', 'startup', 'disclose', 'metric', 'today', 'beneficiary', 'surge', 'say', 'business', 'grow', 'yearonyear', 'sharp', 'scale', 'operation', 'digital', 'brand', 'partly', 'push', 'image', 'excite', 'partner', 'licious', 'say', 'investment', 'advisor', 'statement', 'aœdue', 'liciousa', 'focus', 'quality', 'strong', 'execution', 'successfully', 'create', 'habituated', 'loyal', 'customer', 'base', 'believe', 'leadership', 'licious', 'best', 'position', 'serve', 'fresh', 'meat', 'seafood', 'need']]\n"
          ]
        }
      ]
    },
    {
      "cell_type": "markdown",
      "source": [
        "# **Document Term Matrix**"
      ],
      "metadata": {
        "id": "jZ7VnBgZbpUJ"
      }
    },
    {
      "cell_type": "code",
      "source": [
        "import gensim.corpora as corpora\n",
        "# Create Dictionary\n",
        "id2word = corpora.Dictionary(data_lemmatized)\n",
        "# Create Corpus\n",
        "texts = data_lemmatized\n",
        "# Term Document Frequency\n",
        "corpus = [id2word.doc2bow(text) for text in texts]\n",
        "# View\n",
        "print(corpus[:1])"
      ],
      "metadata": {
        "colab": {
          "base_uri": "https://localhost:8080/"
        },
        "id": "-1pcD0jSK6My",
        "outputId": "466cbb29-3138-4519-a3be-ed765306905b"
      },
      "execution_count": 44,
      "outputs": [
        {
          "output_type": "stream",
          "name": "stdout",
          "text": [
            "[[(0, 1), (1, 1), (2, 1), (3, 1), (4, 1), (5, 1), (6, 1), (7, 1), (8, 1), (9, 1), (10, 1), (11, 1), (12, 1), (13, 1), (14, 1), (15, 1), (16, 1), (17, 1), (18, 2), (19, 2), (20, 1), (21, 1), (22, 1), (23, 2), (24, 1), (25, 2), (26, 1), (27, 2), (28, 1), (29, 1), (30, 1), (31, 1), (32, 2), (33, 2), (34, 1), (35, 1), (36, 1), (37, 2), (38, 2), (39, 1), (40, 1), (41, 1), (42, 2), (43, 1), (44, 1), (45, 1), (46, 1), (47, 1), (48, 2), (49, 1), (50, 1), (51, 1), (52, 1), (53, 1), (54, 1), (55, 5), (56, 1), (57, 1), (58, 1), (59, 3), (60, 2), (61, 1), (62, 1), (63, 1), (64, 1), (65, 1), (66, 1), (67, 2), (68, 1), (69, 1), (70, 2), (71, 3), (72, 1), (73, 1), (74, 2), (75, 1), (76, 1), (77, 1), (78, 6), (79, 2), (80, 1), (81, 1), (82, 1), (83, 1), (84, 6), (85, 1), (86, 2), (87, 1), (88, 1), (89, 1), (90, 1), (91, 1), (92, 1), (93, 2), (94, 1), (95, 1), (96, 1), (97, 1), (98, 1), (99, 1), (100, 1), (101, 1), (102, 3), (103, 1), (104, 1), (105, 1), (106, 1), (107, 2), (108, 2), (109, 1), (110, 2), (111, 4), (112, 1), (113, 6), (114, 2), (115, 1), (116, 1), (117, 1), (118, 1), (119, 1), (120, 1), (121, 1), (122, 5), (123, 1), (124, 1), (125, 1), (126, 1), (127, 1), (128, 1), (129, 1), (130, 1), (131, 1), (132, 1), (133, 1), (134, 1), (135, 1), (136, 2), (137, 1), (138, 2), (139, 1)]]\n"
          ]
        }
      ]
    },
    {
      "cell_type": "code",
      "source": [
        "# Human readable format of corpus (term-frequency)\n",
        "[[(id2word[id], freq) for id, freq in cp] for cp in corpus[:1]]"
      ],
      "metadata": {
        "colab": {
          "base_uri": "https://localhost:8080/"
        },
        "id": "HDBqUhfTK76a",
        "outputId": "d9c693af-cec7-4187-fea5-4d8b28b58f42"
      },
      "execution_count": 45,
      "outputs": [
        {
          "output_type": "execute_result",
          "data": {
            "text/plain": [
              "[[('able', 1),\n",
              "  ('abroad', 1),\n",
              "  ('accord', 1),\n",
              "  ('add', 1),\n",
              "  ('additional', 1),\n",
              "  ('advisor', 1),\n",
              "  ('alike', 1),\n",
              "  ('also', 1),\n",
              "  ('analyst', 1),\n",
              "  ('angel_investor', 1),\n",
              "  ('announce', 1),\n",
              "  ('appear', 1),\n",
              "  ('area', 1),\n",
              "  ('assurance', 1),\n",
              "  ('avenue', 1),\n",
              "  ('aœdue', 1),\n",
              "  ('aœtoday', 1),\n",
              "  ('backer', 1),\n",
              "  ('base', 2),\n",
              "  ('become', 2),\n",
              "  ('believe', 1),\n",
              "  ('beneficiary', 1),\n",
              "  ('bengalurubase', 1),\n",
              "  ('best', 2),\n",
              "  ('borne', 1),\n",
              "  ('brand', 2),\n",
              "  ('bring', 1),\n",
              "  ('build', 2),\n",
              "  ('business', 1),\n",
              "  ('businessesa', 1),\n",
              "  ('capital', 1),\n",
              "  ('captain_fresh', 1),\n",
              "  ('category', 2),\n",
              "  ('city', 2),\n",
              "  ('cofounder', 1),\n",
              "  ('company', 1),\n",
              "  ('count', 1),\n",
              "  ('create', 2),\n",
              "  ('customer', 2),\n",
              "  ('deliver', 1),\n",
              "  ('digital', 1),\n",
              "  ('direct', 1),\n",
              "  ('disclose', 2),\n",
              "  ('disrupt', 1),\n",
              "  ('dividend', 1),\n",
              "  ('double', 1),\n",
              "  ('dozen', 1),\n",
              "  ('earlier', 1),\n",
              "  ('ecommerce', 2),\n",
              "  ('eponymous', 1),\n",
              "  ('excite', 1),\n",
              "  ('execution', 1),\n",
              "  ('exist', 1),\n",
              "  ('extension', 1),\n",
              "  ('focus', 1),\n",
              "  ('fresh', 5),\n",
              "  ('funding', 1),\n",
              "  ('fundraise', 1),\n",
              "  ('group', 1),\n",
              "  ('grow', 3),\n",
              "  ('growth', 2),\n",
              "  ('habituated', 1),\n",
              "  ('highest', 1),\n",
              "  ('hour', 1),\n",
              "  ('iifl', 1),\n",
              "  ('image', 1),\n",
              "  ('include', 1),\n",
              "  ('indian', 2),\n",
              "  ('insight', 1),\n",
              "  ('interest', 1),\n",
              "  ('investment', 2),\n",
              "  ('investor', 3),\n",
              "  ('keep', 1),\n",
              "  ('largely', 1),\n",
              "  ('last', 2),\n",
              "  ('latestage', 1),\n",
              "  ('leadership', 1),\n",
              "  ('liciou', 1),\n",
              "  ('licious', 6),\n",
              "  ('liciousa', 2),\n",
              "  ('loyal', 1),\n",
              "  ('make', 1),\n",
              "  ('market', 1),\n",
              "  ('marketplace', 1),\n",
              "  ('meat', 6),\n",
              "  ('metric', 1),\n",
              "  ('month', 2),\n",
              "  ('move', 1),\n",
              "  ('need', 1),\n",
              "  ('network', 1),\n",
              "  ('number', 1),\n",
              "  ('obsession', 1),\n",
              "  ('online', 1),\n",
              "  ('operate', 2),\n",
              "  ('operation', 1),\n",
              "  ('opportunity', 1),\n",
              "  ('order', 1),\n",
              "  ('outcome', 1),\n",
              "  ('participate', 1),\n",
              "  ('partly', 1),\n",
              "  ('partner', 1),\n",
              "  ('pillar', 1),\n",
              "  ('platform', 3),\n",
              "  ('position', 1),\n",
              "  ('procure', 1),\n",
              "  ('propel', 1),\n",
              "  ('push', 1),\n",
              "  ('quality', 2),\n",
              "  ('raise', 2),\n",
              "  ('rich', 1),\n",
              "  ('round', 2),\n",
              "  ('say', 4),\n",
              "  ('scale', 1),\n",
              "  ('seafood', 6),\n",
              "  ('sell', 2),\n",
              "  ('series', 1),\n",
              "  ('serve', 1),\n",
              "  ('service', 1),\n",
              "  ('several', 1),\n",
              "  ('sharp', 1),\n",
              "  ('stakeholder', 1),\n",
              "  ('standard', 1),\n",
              "  ('startup', 5),\n",
              "  ('startupas', 1),\n",
              "  ('statement', 1),\n",
              "  ('strong', 1),\n",
              "  ('successfully', 1),\n",
              "  ('surge', 1),\n",
              "  ('temasek', 1),\n",
              "  ('today', 1),\n",
              "  ('tracxn', 1),\n",
              "  ('true', 1),\n",
              "  ('underserved', 1),\n",
              "  ('unicorn', 1),\n",
              "  ('unorganized', 1),\n",
              "  ('valuation', 1),\n",
              "  ('value', 2),\n",
              "  ('well', 1),\n",
              "  ('year', 2),\n",
              "  ('yearonyear', 1)]]"
            ]
          },
          "metadata": {},
          "execution_count": 45
        }
      ]
    },
    {
      "cell_type": "markdown",
      "source": [
        "# **Building the Topic LSA Model**\n"
      ],
      "metadata": {
        "id": "-3LSEnK1K_w6"
      }
    },
    {
      "cell_type": "code",
      "source": [
        "from gensim.models import LsiModel\n",
        "from gensim.models.coherencemodel import CoherenceModel\n",
        "\n",
        "lsi_model = gensim.models.lsimodel.LsiModel(\n",
        "   corpus=corpus, id2word=id2word, num_topics=20,chunksize=100\n",
        ")"
      ],
      "metadata": {
        "id": "uL2Dqcu-LCCC"
      },
      "execution_count": 46,
      "outputs": []
    },
    {
      "cell_type": "code",
      "source": [
        "from pprint import pprint\n",
        "pprint(lsi_model.print_topics())\n",
        "doc_lsi = lsi_model[corpus]"
      ],
      "metadata": {
        "colab": {
          "base_uri": "https://localhost:8080/"
        },
        "id": "iwjBYyclZXf4",
        "outputId": "7317be81-fd41-4b9f-af6a-942be377d560"
      },
      "execution_count": 47,
      "outputs": [
        {
          "output_type": "stream",
          "name": "stdout",
          "text": [
            "[(0,\n",
            "  '0.314*\"product\" + 0.255*\"customer\" + 0.238*\"business\" + 0.210*\"ecommerce\" + '\n",
            "  '0.180*\"online\" + 0.180*\"make\" + 0.166*\"say\" + 0.165*\"brand\" + '\n",
            "  '0.154*\"company\" + 0.151*\"sale\"'),\n",
            " (1,\n",
            "  '0.564*\"product\" + -0.362*\"say\" + -0.286*\"year\" + -0.205*\"company\" + '\n",
            "  '-0.184*\"retailer\" + -0.156*\"consumer\" + -0.153*\"sale\" + -0.116*\"retail\" + '\n",
            "  '0.111*\"sell\" + -0.102*\"online\"'),\n",
            " (2,\n",
            "  '-0.573*\"product\" + 0.364*\"business\" + 0.246*\"customer\" + -0.177*\"say\" + '\n",
            "  '-0.155*\"retailer\" + -0.149*\"sale\" + -0.138*\"year\" + -0.135*\"store\" + '\n",
            "  '0.132*\"ecommerce\" + 0.129*\"content\"'),\n",
            " (3,\n",
            "  '0.633*\"customer\" + -0.442*\"business\" + -0.195*\"company\" + '\n",
            "  '0.161*\"experience\" + 0.158*\"consumer\" + -0.144*\"sell\" + -0.130*\"say\" + '\n",
            "  '0.129*\"retailer\" + 0.105*\"store\" + 0.100*\"purchase\"'),\n",
            " (4,\n",
            "  '0.489*\"brand\" + -0.341*\"business\" + -0.295*\"online\" + -0.285*\"ecommerce\" + '\n",
            "  '-0.235*\"sale\" + 0.203*\"content\" + 0.197*\"say\" + 0.147*\"company\" + '\n",
            "  '0.126*\"marketing\" + 0.109*\"video\"'),\n",
            " (5,\n",
            "  '0.345*\"customer\" + 0.285*\"company\" + -0.276*\"ecommerce\" + -0.273*\"online\" + '\n",
            "  '-0.266*\"brand\" + 0.238*\"say\" + -0.235*\"sale\" + -0.209*\"content\" + '\n",
            "  '-0.175*\"consumer\" + 0.141*\"order\"'),\n",
            " (6,\n",
            "  '-0.528*\"brand\" + -0.308*\"business\" + -0.221*\"customer\" + -0.209*\"ecommerce\" '\n",
            "  '+ 0.156*\"page\" + 0.155*\"website\" + 0.152*\"site\" + 0.150*\"store\" + '\n",
            "  '0.149*\"sale\" + 0.147*\"content\"'),\n",
            " (7,\n",
            "  '-0.376*\"ecommerce\" + 0.344*\"store\" + 0.320*\"business\" + -0.316*\"payment\" + '\n",
            "  '-0.225*\"company\" + 0.180*\"brand\" + 0.168*\"customer\" + 0.162*\"sale\" + '\n",
            "  '-0.158*\"platform\" + -0.152*\"product\"'),\n",
            " (8,\n",
            "  '-0.452*\"seller\" + -0.400*\"sale\" + 0.320*\"store\" + -0.205*\"marketplace\" + '\n",
            "  '-0.194*\"brand\" + 0.191*\"say\" + 0.181*\"product\" + -0.143*\"sell\" + '\n",
            "  '-0.128*\"shipping\" + 0.127*\"ecommerce\"'),\n",
            " (9,\n",
            "  '0.360*\"store\" + -0.307*\"sale\" + -0.278*\"customer\" + 0.261*\"brand\" + '\n",
            "  '-0.219*\"product\" + 0.200*\"shipping\" + 0.185*\"order\" + -0.182*\"say\" + '\n",
            "  '0.152*\"free\" + -0.150*\"year\"'),\n",
            " (10,\n",
            "  '-0.488*\"ecommerce\" + 0.365*\"payment\" + 0.361*\"consumer\" + -0.217*\"company\" '\n",
            "  '+ -0.212*\"sale\" + 0.211*\"online\" + -0.158*\"store\" + 0.131*\"merchant\" + '\n",
            "  '0.127*\"business\" + 0.123*\"percent\"'),\n",
            " (11,\n",
            "  '0.302*\"ecommerce\" + -0.270*\"store\" + 0.254*\"return\" + -0.187*\"platform\" + '\n",
            "  '-0.173*\"payment\" + 0.169*\"time\" + -0.167*\"service\" + -0.165*\"sale\" + '\n",
            "  '0.155*\"consumer\" + -0.153*\"shopify\"'),\n",
            " (12,\n",
            "  '0.347*\"email\" + -0.326*\"say\" + -0.292*\"return\" + -0.233*\"seller\" + '\n",
            "  '0.231*\"payment\" + 0.220*\"sale\" + -0.210*\"content\" + -0.162*\"business\" + '\n",
            "  '-0.160*\"website\" + -0.157*\"site\"'),\n",
            " (13,\n",
            "  '-0.485*\"email\" + 0.371*\"post\" + -0.248*\"free\" + -0.194*\"website\" + '\n",
            "  '-0.193*\"say\" + 0.189*\"content\" + 0.172*\"share\" + 0.164*\"store\" + '\n",
            "  '0.127*\"order\" + 0.121*\"video\"'),\n",
            " (14,\n",
            "  '0.259*\"seller\" + 0.244*\"marketplace\" + -0.243*\"free\" + -0.232*\"business\" + '\n",
            "  '-0.198*\"shipping\" + 0.184*\"website\" + -0.179*\"post\" + -0.177*\"email\" + '\n",
            "  '-0.152*\"consumer\" + 0.144*\"site\"'),\n",
            " (15,\n",
            "  '-0.391*\"free\" + 0.368*\"email\" + -0.235*\"image\" + -0.192*\"photo\" + '\n",
            "  '-0.189*\"watch\" + -0.187*\"sale\" + 0.187*\"return\" + -0.181*\"website\" + '\n",
            "  '0.176*\"tool\" + 0.165*\"marketing\"'),\n",
            " (16,\n",
            "  '-0.466*\"return\" + 0.302*\"online\" + 0.288*\"post\" + -0.239*\"sale\" + '\n",
            "  '0.229*\"marketplace\" + -0.229*\"payment\" + 0.167*\"free\" + 0.152*\"share\" + '\n",
            "  '0.136*\"price\" + 0.127*\"customer\"'),\n",
            " (17,\n",
            "  '-0.489*\"return\" + -0.273*\"post\" + 0.251*\"order\" + -0.199*\"online\" + '\n",
            "  '0.191*\"inventory\" + 0.156*\"datum\" + -0.139*\"free\" + -0.137*\"share\" + '\n",
            "  '0.137*\"shipping\" + -0.132*\"email\"'),\n",
            " (18,\n",
            "  '-0.373*\"shipping\" + 0.262*\"tool\" + 0.239*\"return\" + 0.197*\"datum\" + '\n",
            "  '0.186*\"stock\" + 0.171*\"inventory\" + 0.165*\"management\" + 0.150*\"retailer\" + '\n",
            "  '0.145*\"marketplace\" + -0.143*\"post\"'),\n",
            " (19,\n",
            "  '-0.673*\"watch\" + 0.230*\"video\" + 0.174*\"free\" + 0.157*\"influencer\" + '\n",
            "  '-0.144*\"website\" + -0.139*\"post\" + 0.133*\"work\" + -0.133*\"make\" + '\n",
            "  '-0.116*\"price\" + -0.114*\"site\"')]\n"
          ]
        }
      ]
    },
    {
      "cell_type": "code",
      "source": [
        "from gensim.models import CoherenceModel\n",
        "coherence_model_lsa = CoherenceModel(model=lsi_model, texts=data_lemmatized, dictionary=id2word, coherence='c_v')\n",
        "coherence_lsa = coherence_model_lsa.get_coherence()\n",
        "print('\\nCoherence Score: ', coherence_lsa)"
      ],
      "metadata": {
        "colab": {
          "base_uri": "https://localhost:8080/"
        },
        "id": "VQ6YVrsrZ0_5",
        "outputId": "a11afd38-dd84-422a-b1f9-c661f870a879"
      },
      "execution_count": 48,
      "outputs": [
        {
          "output_type": "stream",
          "name": "stdout",
          "text": [
            "\n",
            "Coherence Score:  0.3159867778865679\n"
          ]
        }
      ]
    },
    {
      "cell_type": "markdown",
      "source": [
        "# **find the optimal number of topics for LSA**"
      ],
      "metadata": {
        "id": "c11H3ejsbFde"
      }
    },
    {
      "cell_type": "code",
      "source": [
        "from gensim.models import LsiModel\n",
        "from gensim.models.coherencemodel import CoherenceModel\n",
        "\n",
        "# find the coherence score with a different number of topics\n",
        "for i in range(2,40):\n",
        "    lsi = LsiModel(corpus=corpus, id2word=id2word, num_topics=i,chunksize=100)\n",
        "    coherence_model_lsa = CoherenceModel(model=lsi, texts=data_lemmatized, dictionary=id2word, coherence='c_v')\n",
        "    coherence_lsa = coherence_model_lsa.get_coherence()\n",
        "    print('\\nCoherence Score for topic '+str(i)+': ', coherence_lsa)"
      ],
      "metadata": {
        "colab": {
          "base_uri": "https://localhost:8080/"
        },
        "id": "QKQ6yPFtbGaf",
        "outputId": "6dd43538-1edd-4351-981b-c8d9db08fcf5"
      },
      "execution_count": 52,
      "outputs": [
        {
          "output_type": "stream",
          "name": "stdout",
          "text": [
            "\n",
            "Coherence Score for topic 2:  0.33443498100291713\n",
            "\n",
            "Coherence Score for topic 3:  0.38773959226820215\n",
            "\n",
            "Coherence Score for topic 4:  0.34969547877271034\n",
            "\n",
            "Coherence Score for topic 5:  0.36561977206947527\n",
            "\n",
            "Coherence Score for topic 6:  0.35813164168194467\n",
            "\n",
            "Coherence Score for topic 7:  0.3474853415684621\n",
            "\n",
            "Coherence Score for topic 8:  0.3383518561290258\n",
            "\n",
            "Coherence Score for topic 9:  0.3335785500739606\n",
            "\n",
            "Coherence Score for topic 10:  0.3385408261948307\n",
            "\n",
            "Coherence Score for topic 11:  0.3333970027391267\n",
            "\n",
            "Coherence Score for topic 12:  0.33235222706435025\n",
            "\n",
            "Coherence Score for topic 13:  0.3186850544600181\n",
            "\n",
            "Coherence Score for topic 14:  0.33421883152345483\n",
            "\n",
            "Coherence Score for topic 15:  0.3183580183225759\n",
            "\n",
            "Coherence Score for topic 16:  0.31722297143334743\n",
            "\n",
            "Coherence Score for topic 17:  0.3162127070006552\n",
            "\n",
            "Coherence Score for topic 18:  0.3235238786688672\n",
            "\n",
            "Coherence Score for topic 19:  0.31783064793711613\n",
            "\n",
            "Coherence Score for topic 20:  0.3159867778865679\n",
            "\n",
            "Coherence Score for topic 21:  0.31145215149029365\n",
            "\n",
            "Coherence Score for topic 22:  0.30528103891713865\n",
            "\n",
            "Coherence Score for topic 23:  0.30468654531920336\n",
            "\n",
            "Coherence Score for topic 24:  0.30372957174782117\n",
            "\n",
            "Coherence Score for topic 25:  0.30186501129190924\n",
            "\n",
            "Coherence Score for topic 26:  0.30181189756130955\n",
            "\n",
            "Coherence Score for topic 27:  0.29914135514926876\n",
            "\n",
            "Coherence Score for topic 28:  0.295226281993798\n",
            "\n",
            "Coherence Score for topic 29:  0.2980725631181129\n",
            "\n",
            "Coherence Score for topic 30:  0.296157837429772\n",
            "\n",
            "Coherence Score for topic 31:  0.2934841335558129\n",
            "\n",
            "Coherence Score for topic 32:  0.29252283879548446\n",
            "\n",
            "Coherence Score for topic 33:  0.28929865650963255\n",
            "\n",
            "Coherence Score for topic 34:  0.28737664315376305\n",
            "\n",
            "Coherence Score for topic 35:  0.2848471562728087\n",
            "\n",
            "Coherence Score for topic 36:  0.28382884972698363\n",
            "\n",
            "Coherence Score for topic 37:  0.2872535707571405\n",
            "\n",
            "Coherence Score for topic 38:  0.28375474984579474\n",
            "\n",
            "Coherence Score for topic 39:  0.28121303969618894\n"
          ]
        }
      ]
    },
    {
      "cell_type": "markdown",
      "source": [
        "**Running Optimal LSA Model**"
      ],
      "metadata": {
        "id": "xWU4BUzib_bA"
      }
    },
    {
      "cell_type": "code",
      "source": [
        "lsi_model = gensim.models.lsimodel.LsiModel(\n",
        "   corpus=corpus, id2word=id2word, num_topics=3,chunksize=100\n",
        ")"
      ],
      "metadata": {
        "id": "uqFDD2SnS4XR"
      },
      "execution_count": 53,
      "outputs": []
    },
    {
      "cell_type": "code",
      "source": [
        "from pprint import pprint\n",
        "pprint(lsi_model.print_topics())\n",
        "doc_lsi = lsi_model[corpus]"
      ],
      "metadata": {
        "colab": {
          "base_uri": "https://localhost:8080/"
        },
        "id": "tydPMW8QXWqY",
        "outputId": "12b694ea-8d93-4139-b3f3-7b702f88dfbf"
      },
      "execution_count": 54,
      "outputs": [
        {
          "output_type": "stream",
          "name": "stdout",
          "text": [
            "[(0,\n",
            "  '0.313*\"product\" + 0.253*\"customer\" + 0.241*\"business\" + 0.209*\"ecommerce\" + '\n",
            "  '0.180*\"online\" + 0.180*\"make\" + 0.167*\"say\" + 0.164*\"brand\" + '\n",
            "  '0.154*\"company\" + 0.151*\"sale\"'),\n",
            " (1,\n",
            "  '0.609*\"product\" + -0.345*\"say\" + -0.264*\"year\" + -0.217*\"company\" + '\n",
            "  '-0.171*\"retailer\" + -0.130*\"consumer\" + -0.127*\"sale\" + 0.120*\"sell\" + '\n",
            "  '-0.105*\"retail\" + -0.089*\"last\"'),\n",
            " (2,\n",
            "  '-0.365*\"product\" + 0.276*\"content\" + -0.257*\"seller\" + -0.212*\"sell\" + '\n",
            "  '0.203*\"email\" + 0.196*\"brand\" + 0.186*\"marketing\" + -0.174*\"sale\" + '\n",
            "  '0.172*\"website\" + -0.156*\"return\"')]\n"
          ]
        }
      ]
    }
  ]
}